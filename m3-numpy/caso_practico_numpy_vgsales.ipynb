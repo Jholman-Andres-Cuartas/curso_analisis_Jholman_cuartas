{
 "cells": [
  {
   "cell_type": "code",
   "execution_count": 48,
   "metadata": {},
   "outputs": [],
   "source": [
    "import numpy as np\n",
    "import pandas as pd\n",
    "\n",
    "df = pd.read_csv('C:\\\\Users\\\\Admin\\\\Desktop\\\\3.4.Numpy_Caso_Practico\\\\curso_analisis_datos-main\\\\1.vgsales.csv')"
   ]
  },
  {
   "cell_type": "code",
   "execution_count": 49,
   "metadata": {},
   "outputs": [
    {
     "data": {
      "text/html": [
       "<div>\n",
       "<style scoped>\n",
       "    .dataframe tbody tr th:only-of-type {\n",
       "        vertical-align: middle;\n",
       "    }\n",
       "\n",
       "    .dataframe tbody tr th {\n",
       "        vertical-align: top;\n",
       "    }\n",
       "\n",
       "    .dataframe thead th {\n",
       "        text-align: right;\n",
       "    }\n",
       "</style>\n",
       "<table border=\"1\" class=\"dataframe\">\n",
       "  <thead>\n",
       "    <tr style=\"text-align: right;\">\n",
       "      <th></th>\n",
       "      <th>Rank</th>\n",
       "      <th>Year</th>\n",
       "      <th>NA_Sales</th>\n",
       "      <th>EU_Sales</th>\n",
       "      <th>JP_Sales</th>\n",
       "      <th>Other_Sales</th>\n",
       "      <th>Global_Sales</th>\n",
       "    </tr>\n",
       "  </thead>\n",
       "  <tbody>\n",
       "    <tr>\n",
       "      <th>count</th>\n",
       "      <td>16598.000000</td>\n",
       "      <td>16327.000000</td>\n",
       "      <td>16598.000000</td>\n",
       "      <td>16598.000000</td>\n",
       "      <td>16598.000000</td>\n",
       "      <td>16598.000000</td>\n",
       "      <td>16598.000000</td>\n",
       "    </tr>\n",
       "    <tr>\n",
       "      <th>mean</th>\n",
       "      <td>8300.605254</td>\n",
       "      <td>2006.406443</td>\n",
       "      <td>0.264667</td>\n",
       "      <td>0.146652</td>\n",
       "      <td>0.077782</td>\n",
       "      <td>0.048063</td>\n",
       "      <td>0.537441</td>\n",
       "    </tr>\n",
       "    <tr>\n",
       "      <th>std</th>\n",
       "      <td>4791.853933</td>\n",
       "      <td>5.828981</td>\n",
       "      <td>0.816683</td>\n",
       "      <td>0.505351</td>\n",
       "      <td>0.309291</td>\n",
       "      <td>0.188588</td>\n",
       "      <td>1.555028</td>\n",
       "    </tr>\n",
       "    <tr>\n",
       "      <th>min</th>\n",
       "      <td>1.000000</td>\n",
       "      <td>1980.000000</td>\n",
       "      <td>0.000000</td>\n",
       "      <td>0.000000</td>\n",
       "      <td>0.000000</td>\n",
       "      <td>0.000000</td>\n",
       "      <td>0.010000</td>\n",
       "    </tr>\n",
       "    <tr>\n",
       "      <th>25%</th>\n",
       "      <td>4151.250000</td>\n",
       "      <td>2003.000000</td>\n",
       "      <td>0.000000</td>\n",
       "      <td>0.000000</td>\n",
       "      <td>0.000000</td>\n",
       "      <td>0.000000</td>\n",
       "      <td>0.060000</td>\n",
       "    </tr>\n",
       "    <tr>\n",
       "      <th>50%</th>\n",
       "      <td>8300.500000</td>\n",
       "      <td>2007.000000</td>\n",
       "      <td>0.080000</td>\n",
       "      <td>0.020000</td>\n",
       "      <td>0.000000</td>\n",
       "      <td>0.010000</td>\n",
       "      <td>0.170000</td>\n",
       "    </tr>\n",
       "    <tr>\n",
       "      <th>75%</th>\n",
       "      <td>12449.750000</td>\n",
       "      <td>2010.000000</td>\n",
       "      <td>0.240000</td>\n",
       "      <td>0.110000</td>\n",
       "      <td>0.040000</td>\n",
       "      <td>0.040000</td>\n",
       "      <td>0.470000</td>\n",
       "    </tr>\n",
       "    <tr>\n",
       "      <th>max</th>\n",
       "      <td>16600.000000</td>\n",
       "      <td>2020.000000</td>\n",
       "      <td>41.490000</td>\n",
       "      <td>29.020000</td>\n",
       "      <td>10.220000</td>\n",
       "      <td>10.570000</td>\n",
       "      <td>82.740000</td>\n",
       "    </tr>\n",
       "  </tbody>\n",
       "</table>\n",
       "</div>"
      ],
      "text/plain": [
       "               Rank          Year      NA_Sales      EU_Sales      JP_Sales   \n",
       "count  16598.000000  16327.000000  16598.000000  16598.000000  16598.000000  \\\n",
       "mean    8300.605254   2006.406443      0.264667      0.146652      0.077782   \n",
       "std     4791.853933      5.828981      0.816683      0.505351      0.309291   \n",
       "min        1.000000   1980.000000      0.000000      0.000000      0.000000   \n",
       "25%     4151.250000   2003.000000      0.000000      0.000000      0.000000   \n",
       "50%     8300.500000   2007.000000      0.080000      0.020000      0.000000   \n",
       "75%    12449.750000   2010.000000      0.240000      0.110000      0.040000   \n",
       "max    16600.000000   2020.000000     41.490000     29.020000     10.220000   \n",
       "\n",
       "        Other_Sales  Global_Sales  \n",
       "count  16598.000000  16598.000000  \n",
       "mean       0.048063      0.537441  \n",
       "std        0.188588      1.555028  \n",
       "min        0.000000      0.010000  \n",
       "25%        0.000000      0.060000  \n",
       "50%        0.010000      0.170000  \n",
       "75%        0.040000      0.470000  \n",
       "max       10.570000     82.740000  "
      ]
     },
     "execution_count": 49,
     "metadata": {},
     "output_type": "execute_result"
    }
   ],
   "source": [
    "df.describe()"
   ]
  },
  {
   "cell_type": "code",
   "execution_count": 50,
   "metadata": {},
   "outputs": [
    {
     "data": {
      "text/html": [
       "<div>\n",
       "<style scoped>\n",
       "    .dataframe tbody tr th:only-of-type {\n",
       "        vertical-align: middle;\n",
       "    }\n",
       "\n",
       "    .dataframe tbody tr th {\n",
       "        vertical-align: top;\n",
       "    }\n",
       "\n",
       "    .dataframe thead th {\n",
       "        text-align: right;\n",
       "    }\n",
       "</style>\n",
       "<table border=\"1\" class=\"dataframe\">\n",
       "  <thead>\n",
       "    <tr style=\"text-align: right;\">\n",
       "      <th></th>\n",
       "      <th>Rank</th>\n",
       "      <th>Name</th>\n",
       "      <th>Platform</th>\n",
       "      <th>Year</th>\n",
       "      <th>Genre</th>\n",
       "      <th>Publisher</th>\n",
       "      <th>NA_Sales</th>\n",
       "      <th>EU_Sales</th>\n",
       "      <th>JP_Sales</th>\n",
       "      <th>Other_Sales</th>\n",
       "      <th>Global_Sales</th>\n",
       "    </tr>\n",
       "  </thead>\n",
       "  <tbody>\n",
       "    <tr>\n",
       "      <th>0</th>\n",
       "      <td>1</td>\n",
       "      <td>Wii Sports</td>\n",
       "      <td>Wii</td>\n",
       "      <td>2006.0</td>\n",
       "      <td>Sports</td>\n",
       "      <td>Nintendo</td>\n",
       "      <td>41.49</td>\n",
       "      <td>29.02</td>\n",
       "      <td>3.77</td>\n",
       "      <td>8.46</td>\n",
       "      <td>82.74</td>\n",
       "    </tr>\n",
       "    <tr>\n",
       "      <th>1</th>\n",
       "      <td>2</td>\n",
       "      <td>Super Mario Bros.</td>\n",
       "      <td>NES</td>\n",
       "      <td>1985.0</td>\n",
       "      <td>Platform</td>\n",
       "      <td>Nintendo</td>\n",
       "      <td>29.08</td>\n",
       "      <td>3.58</td>\n",
       "      <td>6.81</td>\n",
       "      <td>0.77</td>\n",
       "      <td>40.24</td>\n",
       "    </tr>\n",
       "    <tr>\n",
       "      <th>2</th>\n",
       "      <td>3</td>\n",
       "      <td>Mario Kart Wii</td>\n",
       "      <td>Wii</td>\n",
       "      <td>2008.0</td>\n",
       "      <td>Racing</td>\n",
       "      <td>Nintendo</td>\n",
       "      <td>15.85</td>\n",
       "      <td>12.88</td>\n",
       "      <td>3.79</td>\n",
       "      <td>3.31</td>\n",
       "      <td>35.82</td>\n",
       "    </tr>\n",
       "    <tr>\n",
       "      <th>3</th>\n",
       "      <td>4</td>\n",
       "      <td>Wii Sports Resort</td>\n",
       "      <td>Wii</td>\n",
       "      <td>2009.0</td>\n",
       "      <td>Sports</td>\n",
       "      <td>Nintendo</td>\n",
       "      <td>15.75</td>\n",
       "      <td>11.01</td>\n",
       "      <td>3.28</td>\n",
       "      <td>2.96</td>\n",
       "      <td>33.00</td>\n",
       "    </tr>\n",
       "    <tr>\n",
       "      <th>4</th>\n",
       "      <td>5</td>\n",
       "      <td>Pokemon Red/Pokemon Blue</td>\n",
       "      <td>GB</td>\n",
       "      <td>1996.0</td>\n",
       "      <td>Role-Playing</td>\n",
       "      <td>Nintendo</td>\n",
       "      <td>11.27</td>\n",
       "      <td>8.89</td>\n",
       "      <td>10.22</td>\n",
       "      <td>1.00</td>\n",
       "      <td>31.37</td>\n",
       "    </tr>\n",
       "  </tbody>\n",
       "</table>\n",
       "</div>"
      ],
      "text/plain": [
       "   Rank                      Name Platform    Year         Genre Publisher   \n",
       "0     1                Wii Sports      Wii  2006.0        Sports  Nintendo  \\\n",
       "1     2         Super Mario Bros.      NES  1985.0      Platform  Nintendo   \n",
       "2     3            Mario Kart Wii      Wii  2008.0        Racing  Nintendo   \n",
       "3     4         Wii Sports Resort      Wii  2009.0        Sports  Nintendo   \n",
       "4     5  Pokemon Red/Pokemon Blue       GB  1996.0  Role-Playing  Nintendo   \n",
       "\n",
       "   NA_Sales  EU_Sales  JP_Sales  Other_Sales  Global_Sales  \n",
       "0     41.49     29.02      3.77         8.46         82.74  \n",
       "1     29.08      3.58      6.81         0.77         40.24  \n",
       "2     15.85     12.88      3.79         3.31         35.82  \n",
       "3     15.75     11.01      3.28         2.96         33.00  \n",
       "4     11.27      8.89     10.22         1.00         31.37  "
      ]
     },
     "execution_count": 50,
     "metadata": {},
     "output_type": "execute_result"
    }
   ],
   "source": [
    "df.head()\n"
   ]
  },
  {
   "cell_type": "code",
   "execution_count": 51,
   "metadata": {},
   "outputs": [
    {
     "name": "stdout",
     "output_type": "stream",
     "text": [
      "<class 'pandas.core.frame.DataFrame'>\n",
      "RangeIndex: 16598 entries, 0 to 16597\n",
      "Data columns (total 11 columns):\n",
      " #   Column        Non-Null Count  Dtype  \n",
      "---  ------        --------------  -----  \n",
      " 0   Rank          16598 non-null  int64  \n",
      " 1   Name          16598 non-null  object \n",
      " 2   Platform      16598 non-null  object \n",
      " 3   Year          16327 non-null  float64\n",
      " 4   Genre         16598 non-null  object \n",
      " 5   Publisher     16540 non-null  object \n",
      " 6   NA_Sales      16598 non-null  float64\n",
      " 7   EU_Sales      16598 non-null  float64\n",
      " 8   JP_Sales      16598 non-null  float64\n",
      " 9   Other_Sales   16598 non-null  float64\n",
      " 10  Global_Sales  16598 non-null  float64\n",
      "dtypes: float64(6), int64(1), object(4)\n",
      "memory usage: 1.4+ MB\n"
     ]
    }
   ],
   "source": [
    "df.info()"
   ]
  },
  {
   "attachments": {},
   "cell_type": "markdown",
   "metadata": {},
   "source": [
    "Este código cargará el archivo CSV utilizando Pandas y luego utilizará la función np.array() para convertir cada columna en un array numpy separado. Luego, se imprimirán los primeros 5 elementos de cada array numpy para verificar que se hayan extraído correctamente."
   ]
  },
  {
   "cell_type": "code",
   "execution_count": 52,
   "metadata": {},
   "outputs": [
    {
     "name": "stdout",
     "output_type": "stream",
     "text": [
      "Rank: [1 2 3 4 5]\n",
      "Year: [2006. 1985. 2008. 2009. 1996.]\n",
      "NA Sales: [41.49 29.08 15.85 15.75 11.27]\n",
      "EU Sales: [29.02  3.58 12.88 11.01  8.89]\n",
      "JP Sales: [ 3.77  6.81  3.79  3.28 10.22]\n",
      "Other Sales: [8.46 0.77 3.31 2.96 1.  ]\n",
      "Global Sales: [82.74 40.24 35.82 33.   31.37]\n"
     ]
    }
   ],
   "source": [
    "import pandas as pd\n",
    "import numpy as np\n",
    "\n",
    "# Cargar el archivo CSV utilizando Pandas\n",
    "df = pd.read_csv('C:\\\\Users\\\\Admin\\\\Desktop\\\\3.4.Numpy_Caso_Practico\\\\curso_analisis_datos-main\\\\1.vgsales.csv', delimiter=',')\n",
    "\n",
    "# Extraer cada columna como un array numpy separado\n",
    "rank = np.array(df['Rank'])\n",
    "year = np.array(df['Year'])\n",
    "na_sales = np.array(df['NA_Sales'])\n",
    "eu_sales = np.array(df['EU_Sales'])\n",
    "jp_sales = np.array(df['JP_Sales'])\n",
    "other_sales = np.array(df['Other_Sales'])\n",
    "global_sales = np.array(df['Global_Sales'])\n",
    "\n",
    "# Imprimir los primeros 5 elementos de cada array numpy\n",
    "print(\"Rank:\", rank[:5])\n",
    "print(\"Year:\", year[:5])\n",
    "print(\"NA Sales:\", na_sales[:5])\n",
    "print(\"EU Sales:\", eu_sales[:5])\n",
    "print(\"JP Sales:\", jp_sales[:5])\n",
    "print(\"Other Sales:\", other_sales[:5])\n",
    "print(\"Global Sales:\", global_sales[:5])\n"
   ]
  },
  {
   "cell_type": "code",
   "execution_count": 53,
   "metadata": {},
   "outputs": [
    {
     "data": {
      "text/plain": [
       "Index(['Rank', 'Name', 'Platform', 'Year', 'Genre', 'Publisher', 'NA_Sales',\n",
       "       'EU_Sales', 'JP_Sales', 'Other_Sales', 'Global_Sales'],\n",
       "      dtype='object')"
      ]
     },
     "execution_count": 53,
     "metadata": {},
     "output_type": "execute_result"
    }
   ],
   "source": [
    "# ver columnas\n",
    "df.columns"
   ]
  },
  {
   "attachments": {},
   "cell_type": "markdown",
   "metadata": {},
   "source": [
    "3.1. Análisis Descriptivo de las Ventas Globales:\n",
    "\n",
    "Para calcular el promedio, la mediana, la moda y la desviación estándar de las ventas globales de los videojuegos, utilizaremos la biblioteca NumPy.\n",
    "Este código calculará y mostrará el promedio, la mediana, la moda y la desviación estándar de las ventas globales de los videojuegos."
   ]
  },
  {
   "cell_type": "code",
   "execution_count": 54,
   "metadata": {},
   "outputs": [
    {
     "name": "stdout",
     "output_type": "stream",
     "text": [
      "Promedio de ventas globales: 0.5374406555006628\n",
      "Mediana de ventas globales: 0.17\n",
      "Moda de ventas globales: 0\n",
      "Desviación estándar de ventas globales: 1.5549810910296606\n"
     ]
    }
   ],
   "source": [
    "import numpy as np\n",
    "import pandas as pd\n",
    "\n",
    "# Cargar el archivo CSV en un DataFrame\n",
    "df = pd.read_csv('C:\\\\Users\\\\Admin\\\\Desktop\\\\3.4.Numpy_Caso_Practico\\\\curso_analisis_datos-main\\\\1.vgsales.csv')\n",
    "\n",
    "# Calcular el promedio de las ventas globales\n",
    "promedio_ventas_globales = np.mean(df['Global_Sales'])\n",
    "print(\"Promedio de ventas globales:\", promedio_ventas_globales)\n",
    "\n",
    "# Calcular la mediana de las ventas globales\n",
    "mediana_ventas_globales = np.median(df['Global_Sales'])\n",
    "print(\"Mediana de ventas globales:\", mediana_ventas_globales)\n",
    "\n",
    "# Calcular la moda de las ventas globales\n",
    "moda_ventas_globales = np.argmax(np.bincount(df['Global_Sales']))\n",
    "print(\"Moda de ventas globales:\", moda_ventas_globales)\n",
    "\n",
    "# Calcular la desviación estándar de las ventas globales\n",
    "desviacion_estandar_ventas_globales = np.std(df['Global_Sales'])\n",
    "print(\"Desviación estándar de ventas globales:\", desviacion_estandar_ventas_globales)\n"
   ]
  },
  {
   "attachments": {},
   "cell_type": "markdown",
   "metadata": {},
   "source": [
    "3.2. Análisis de Ventas por Género:\n",
    "\n",
    "Para encontrar los tres géneros de videojuegos que generaron las mayores ventas globales, podemos utilizar pandas y realizar una operación de agrupación y suma. \n",
    "Este código mostrará los tres géneros de videojuegos que generaron las mayores ventas globales."
   ]
  },
  {
   "cell_type": "code",
   "execution_count": 55,
   "metadata": {},
   "outputs": [
    {
     "name": "stdout",
     "output_type": "stream",
     "text": [
      "Tres géneros con mayores ventas:\n",
      "Genre\n",
      "Action     1751.18\n",
      "Sports     1330.93\n",
      "Shooter    1037.37\n",
      "Name: Global_Sales, dtype: float64\n"
     ]
    }
   ],
   "source": [
    "import pandas as pd\n",
    "\n",
    "# Cargar el archivo CSV en un DataFrame\n",
    "df = pd.read_csv('C:\\\\Users\\\\Admin\\\\Desktop\\\\3.4.Numpy_Caso_Practico\\\\curso_analisis_datos-main\\\\1.vgsales.csv')\n",
    "\n",
    "# Agrupar por género y sumar las ventas globales\n",
    "ventas_por_genero = df.groupby('Genre')['Global_Sales'].sum()\n",
    "\n",
    "# Ordenar las ventas por género en orden descendente\n",
    "ventas_por_genero = ventas_por_genero.sort_values(ascending=False)\n",
    "\n",
    "# Obtener los tres géneros con mayores ventas\n",
    "tres_generos_mas_ventas = ventas_por_genero.head(3)\n",
    "\n",
    "print(\"Tres géneros con mayores ventas:\")\n",
    "print(tres_generos_mas_ventas)\n"
   ]
  },
  {
   "attachments": {},
   "cell_type": "markdown",
   "metadata": {},
   "source": [
    "3.3. Análisis de Ventas por Año:\n",
    "\n",
    "Para encontrar el año con las mayores ventas globales de videojuegos, podemos agrupar los datos por año y luego sumar las ventas globales. \n",
    "\n",
    "Este código imprimirá el año con las mayores ventas globales de videojuegos en el archivo CSV."
   ]
  },
  {
   "cell_type": "code",
   "execution_count": 56,
   "metadata": {},
   "outputs": [
    {
     "name": "stdout",
     "output_type": "stream",
     "text": [
      "Año con mayores ventas globales: 2008.0\n"
     ]
    }
   ],
   "source": [
    "import pandas as pd\n",
    "\n",
    "# Cargar el archivo CSV en un DataFrame\n",
    "df = pd.read_csv('C:\\\\Users\\\\Admin\\\\Desktop\\\\3.4.Numpy_Caso_Practico\\\\curso_analisis_datos-main\\\\1.vgsales.csv')\n",
    "\n",
    "# Agrupar por año y sumar las ventas globales\n",
    "ventas_por_año = df.groupby('Year')['Global_Sales'].sum()\n",
    "\n",
    "# Encontrar el año con las mayores ventas globales\n",
    "año_mayores_ventas = ventas_por_año.idxmax()\n",
    "\n",
    "print(\"Año con mayores ventas globales:\", año_mayores_ventas)\n"
   ]
  },
  {
   "attachments": {},
   "cell_type": "markdown",
   "metadata": {},
   "source": [
    "3.4. Análisis de Ventas por Plataforma:\n",
    "\n",
    "Para encontrar la plataforma que generó las mayores ventas globales de videojuegos, podemos agrupar los datos por plataforma y luego sumar las ventas globales\n",
    "Este código imprimirá la plataforma que generó las mayores ventas globales de videojuegos en el archivo CSV."
   ]
  },
  {
   "cell_type": "code",
   "execution_count": 57,
   "metadata": {},
   "outputs": [
    {
     "name": "stdout",
     "output_type": "stream",
     "text": [
      "Plataforma con mayores ventas globales: PS2\n"
     ]
    }
   ],
   "source": [
    "import pandas as pd\n",
    "\n",
    "# Cargar el archivo CSV en un DataFrame\n",
    "df = pd.read_csv('C:\\\\Users\\\\Admin\\\\Desktop\\\\3.4.Numpy_Caso_Practico\\\\curso_analisis_datos-main\\\\1.vgsales.csv')\n",
    "\n",
    "# Agrupar por plataforma y sumar las ventas globales\n",
    "ventas_por_plataforma = df.groupby('Platform')['Global_Sales'].sum()\n",
    "\n",
    "# Encontrar la plataforma con las mayores ventas globales\n",
    "plataforma_mayores_ventas = ventas_por_plataforma.idxmax()\n",
    "\n",
    "print(\"Plataforma con mayores ventas globales:\", plataforma_mayores_ventas)\n"
   ]
  },
  {
   "attachments": {},
   "cell_type": "markdown",
   "metadata": {},
   "source": [
    "3.5. Análisis de Ventas por Editor:\n",
    "\n",
    "Para encontrar el editor que generó las mayores ventas globales de videojuegos, podemos agrupar los datos por editor y luego sumar las ventas globales\n",
    "\n",
    "Este código imprimirá el editor que generó las mayores ventas globales de videojuegos ."
   ]
  },
  {
   "cell_type": "code",
   "execution_count": 58,
   "metadata": {},
   "outputs": [
    {
     "name": "stdout",
     "output_type": "stream",
     "text": [
      "Editor con mayores ventas globales: Nintendo\n"
     ]
    }
   ],
   "source": [
    "import pandas as pd\n",
    "\n",
    "# Cargar el archivo CSV en un DataFrame\n",
    "df = pd.read_csv('C:\\\\Users\\\\Admin\\\\Desktop\\\\3.4.Numpy_Caso_Practico\\\\curso_analisis_datos-main\\\\1.vgsales.csv')\n",
    "\n",
    "# Agrupar por editor y sumar las ventas globales\n",
    "ventas_por_editor = df.groupby('Publisher')['Global_Sales'].sum()\n",
    "\n",
    "# Encontrar el editor con las mayores ventas globales\n",
    "editor_mayores_ventas = ventas_por_editor.idxmax()\n",
    "\n",
    "print(\"Editor con mayores ventas globales:\", editor_mayores_ventas)\n"
   ]
  },
  {
   "attachments": {},
   "cell_type": "markdown",
   "metadata": {},
   "source": [
    "3.6. Comparación de Ventas entre Plataformas:\n",
    "\n",
    "Para comparar las ventas globales de los videojuegos de las consolas de Nintendo y las consolas de Sony, podemos filtrar el DataFrame original para obtener los datos de cada plataforma y luego calcular las sumas de ventas globales.\n",
    "\n",
    "Este código calculará y mostrará las ventas globales de los videojuegos de las consolas de Nintendo y las consolas de Sony."
   ]
  },
  {
   "cell_type": "code",
   "execution_count": 59,
   "metadata": {},
   "outputs": [
    {
     "name": "stdout",
     "output_type": "stream",
     "text": [
      "Ventas globales de consolas de Nintendo: 1459.6899999999998\n",
      "Ventas globales de consolas de Sony: 2491.5800000000004\n"
     ]
    }
   ],
   "source": [
    "import pandas as pd\n",
    "\n",
    "# Cargar el archivo CSV en un DataFrame\n",
    "df = pd.read_csv('C:\\\\Users\\\\Admin\\\\Desktop\\\\3.4.Numpy_Caso_Practico\\\\curso_analisis_datos-main\\\\1.vgsales.csv')\n",
    "\n",
    "# Filtrar los datos de las consolas de Nintendo\n",
    "ventas_nintendo = df[df['Platform'].str.contains('Wii|NES')]['Global_Sales'].sum()\n",
    "\n",
    "# Filtrar los datos de las consolas de Sony\n",
    "ventas_sony = df[df['Platform'].str.contains('PS2|PS3|PS4')]['Global_Sales'].sum()\n",
    "\n",
    "print(\"Ventas globales de consolas de Nintendo:\", ventas_nintendo)\n",
    "print(\"Ventas globales de consolas de Sony:\", ventas_sony)\n"
   ]
  },
  {
   "attachments": {},
   "cell_type": "markdown",
   "metadata": {},
   "source": [
    "3.7. Análisis Temporal de las Ventas Globales:\n",
    "\n",
    "Para calcular las ventas globales totales de videojuegos para cada año y analizar posibles patrones o tendencias a lo largo del tiempo, podemos agrupar los datos por año y sumar las ventas globales. Luego, podemos trazar un gráfico para visualizar los resultados.\n",
    "\n",
    "Este código calculará las ventas globales totales de videojuegos para cada año y generará un gráfico de línea para visualizar los resultados. Puedes observar el gráfico y analizar si existe algún patrón o tendencia en las ventas a lo largo del tiempo."
   ]
  },
  {
   "cell_type": "code",
   "execution_count": 60,
   "metadata": {},
   "outputs": [
    {
     "name": "stdout",
     "output_type": "stream",
     "text": [
      "Ventas globales totales por año:\n",
      "Year\n",
      "1980.0     11.38\n",
      "1981.0     35.77\n",
      "1982.0     28.86\n",
      "1983.0     16.79\n",
      "1984.0     50.36\n",
      "1985.0     53.94\n",
      "1986.0     37.07\n",
      "1987.0     21.74\n",
      "1988.0     47.22\n",
      "1989.0     73.45\n",
      "1990.0     49.39\n",
      "1991.0     32.23\n",
      "1992.0     76.16\n",
      "1993.0     45.98\n",
      "1994.0     79.17\n",
      "1995.0     88.11\n",
      "1996.0    199.15\n",
      "1997.0    200.98\n",
      "1998.0    256.47\n",
      "1999.0    251.27\n",
      "2000.0    201.56\n",
      "2001.0    331.47\n",
      "2002.0    395.52\n",
      "2003.0    357.85\n",
      "2004.0    419.31\n",
      "2005.0    459.94\n",
      "2006.0    521.04\n",
      "2007.0    611.13\n",
      "2008.0    678.90\n",
      "2009.0    667.30\n",
      "2010.0    600.45\n",
      "2011.0    515.99\n",
      "2012.0    363.54\n",
      "2013.0    368.11\n",
      "2014.0    337.05\n",
      "2015.0    264.44\n",
      "2016.0     70.93\n",
      "2017.0      0.05\n",
      "2020.0      0.29\n",
      "Name: Global_Sales, dtype: float64\n"
     ]
    }
   ],
   "source": [
    "import pandas as pd\n",
    "\n",
    "# Cargar el archivo CSV en un DataFrame\n",
    "df = pd.read_csv('C:\\\\Users\\\\Admin\\\\Desktop\\\\3.4.Numpy_Caso_Practico\\\\curso_analisis_datos-main\\\\1.vgsales.csv')\n",
    "\n",
    "# Agrupar por año y sumar las ventas globales\n",
    "ventas_por_año = df.groupby('Year')['Global_Sales'].sum()\n",
    "\n",
    "print(\"Ventas globales totales por año:\")\n",
    "print(ventas_por_año)\n"
   ]
  },
  {
   "attachments": {},
   "cell_type": "markdown",
   "metadata": {},
   "source": [
    "3.7 Este código generará un gráfico de línea que muestra las ventas globales de videojuegos por año. Puedes observar el gráfico y analizar si existe algún patrón o tendencia en las ventas a lo largo del tiempo."
   ]
  },
  {
   "cell_type": "code",
   "execution_count": 61,
   "metadata": {},
   "outputs": [
    {
     "data": {
      "image/png": "[encoded data removed]",
      "text/plain": [
       "<Figure size 1000x600 with 1 Axes>"
      ]
     },
     "metadata": {},
     "output_type": "display_data"
    }
   ],
   "source": [
    "import pandas as pd\n",
    "import matplotlib.pyplot as plt\n",
    "\n",
    "# Cargar el archivo CSV en un DataFrame\n",
    "df = pd.read_csv('C:\\\\Users\\\\Admin\\\\Desktop\\\\3.4.Numpy_Caso_Practico\\\\curso_analisis_datos-main\\\\1.vgsales.csv')\n",
    "\n",
    "# Agrupar por año y sumar las ventas globales\n",
    "ventas_por_año = df.groupby('Year')['Global_Sales'].sum()\n",
    "\n",
    "# Crear un gráfico de línea para visualizar las ventas a lo largo del tiempo\n",
    "ventas_por_año.plot(kind='line', figsize=(10, 6))\n",
    "plt.title('Ventas Globales de Videojuegos por Año')\n",
    "plt.xlabel('Año')\n",
    "plt.ylabel('Ventas Globales')\n",
    "plt.grid(True)\n",
    "plt.show()\n"
   ]
  },
  {
   "attachments": {},
   "cell_type": "markdown",
   "metadata": {},
   "source": [
    "3.8. Análisis de Ventas por Nombre de Juego:\n",
    "\n",
    "Para encontrar el juego que ha generado las mayores ventas globales, podemos utilizar la función idxmax() de pandas para obtener el índice del máximo valor de ventas globales y luego acceder al nombre del juego correspondiente. A\n",
    "Este código imprimirá el nombre del juego que ha generado las mayores ventas globales en el archivo CSV.\n"
   ]
  },
  {
   "cell_type": "code",
   "execution_count": 62,
   "metadata": {},
   "outputs": [
    {
     "name": "stdout",
     "output_type": "stream",
     "text": [
      "Juego con mayores ventas globales: Wii Sports\n"
     ]
    }
   ],
   "source": [
    "import pandas as pd\n",
    "\n",
    "# Cargar el archivo CSV en un DataFrame\n",
    "df = pd.read_csv('C:\\\\Users\\\\Admin\\\\Desktop\\\\3.4.Numpy_Caso_Practico\\\\curso_analisis_datos-main\\\\1.vgsales.csv')\n",
    "\n",
    "# Encontrar el juego con las mayores ventas globales\n",
    "juego_mayores_ventas = df.loc[df['Global_Sales'].idxmax(), 'Name']\n",
    "\n",
    "print(\"Juego con mayores ventas globales:\", juego_mayores_ventas)\n"
   ]
  },
  {
   "attachments": {},
   "cell_type": "markdown",
   "metadata": {},
   "source": [
    "3.9. Análisis de Ventas por Género y Plataforma:\n",
    "\n",
    "Para encontrar la plataforma que ha generado las mayores ventas para el género \"Sports\", podemos filtrar el DataFrame por el género deseado y luego agrupar los datos por plataforma y sumar las ventas globales\n",
    "\n",
    "Este código imprimirá el nombre del juego que ha generado las mayores ventas globales en el archivo CSV.\n",
    "\n"
   ]
  },
  {
   "cell_type": "code",
   "execution_count": 63,
   "metadata": {},
   "outputs": [
    {
     "name": "stdout",
     "output_type": "stream",
     "text": [
      "Juego con mayores ventas globales: Wii Sports\n"
     ]
    }
   ],
   "source": [
    "import pandas as pd\n",
    "\n",
    "# Cargar el archivo CSV en un DataFrame\n",
    "df = pd.read_csv('C:\\\\Users\\\\Admin\\\\Desktop\\\\3.4.Numpy_Caso_Practico\\\\curso_analisis_datos-main\\\\1.vgsales.csv')\n",
    "\n",
    "# Encontrar el juego con las mayores ventas globales\n",
    "juego_mayores_ventas = df.loc[df['Global_Sales'].idxmax(), 'Name']\n",
    "\n",
    "print(\"Juego con mayores ventas globales:\", juego_mayores_ventas)\n"
   ]
  }
 ],
 "metadata": {
  "kernelspec": {
   "display_name": "Python 3",
   "language": "python",
   "name": "python3"
  },
  "language_info": {
   "codemirror_mode": {
    "name": "ipython",
    "version": 3
   },
   "file_extension": ".py",
   "mimetype": "text/x-python",
   "name": "python",
   "nbconvert_exporter": "python",
   "pygments_lexer": "ipython3",
   "version": "3.10.11"
  },
  "orig_nbformat": 4
 },
 "nbformat": 4,
 "nbformat_minor": 2
}
