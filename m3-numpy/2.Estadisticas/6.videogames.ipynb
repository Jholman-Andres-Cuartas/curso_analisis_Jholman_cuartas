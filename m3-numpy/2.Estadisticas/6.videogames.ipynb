{
 "cells": [
  {
   "attachments": {},
   "cell_type": "markdown",
   "metadata": {},
   "source": [
    "## Análisis de datos de ventas de videojuegos utilizando NumPy\n",
    "\n",
    "https://www.kaggle.com/gregorut/videogamesales\n",
    "\n",
    " El objetivo de este caso práctico es analizar un conjunto de datos de ventas de videojuegos utilizando NumPy para calcular estadísticas básicas, identificar tendencias y detectar patrones.\n",
    "\n",
    "\n",
    "\n",
    "Rank - Ranking of overall sales\n",
    "\n",
    "Name - The games name\n",
    "\n",
    "Platform - Platform of the games release (i.e. PC,PS4, etc.)\n",
    "\n",
    "Year - Year of the game's release\n",
    "\n",
    "Genre - Genre of the game\n",
    "\n",
    "Publisher - Publisher of the game\n",
    "\n",
    "NA_Sales - Sales in North America (in millions)\n",
    "\n",
    "EU_Sales - Sales in Europe (in millions)\n",
    "\n",
    "JP_Sales - Sales in Japan (in millions)\n",
    "\n",
    "Other_Sales - Sales in the rest of the world (in millions)\n",
    "\n",
    "Global_Sales - Total worldwide sales.\n"
   ]
  },
  {
   "attachments": {},
   "cell_type": "markdown",
   "metadata": {},
   "source": [
    "* cargar el archivo csv\n",
    "* Calcular ventas totales\n",
    "* Estadísticas básicas sobre ventas totales\n",
    "* Calcular ventas totales por plataforma y género\n",
    "* Ventas totales por año\n",
    "* Año con mayores ventas"
   ]
  },
  {
   "cell_type": "code",
   "execution_count": 1,
   "metadata": {},
   "outputs": [],
   "source": [
    "import numpy as np"
   ]
  },
  {
   "cell_type": "code",
   "execution_count": 2,
   "metadata": {},
   "outputs": [
    {
     "data": {
      "text/plain": [
       "(16598,)"
      ]
     },
     "execution_count": 2,
     "metadata": {},
     "output_type": "execute_result"
    }
   ],
   "source": [
    "names = np.genfromtxt('../../data/vgsales.csv', \n",
    "              usecols=(1), dtype=str, skip_header=1, delimiter=',')\n",
    "names.shape"
   ]
  },
  {
   "cell_type": "code",
   "execution_count": 3,
   "metadata": {},
   "outputs": [
    {
     "ename": "ValueError",
     "evalue": "Some errors were detected !\n    Line #3552 (got 2 columns instead of 1)\n    Line #8988 (got 2 columns instead of 1)\n    Line #10381 (got 2 columns instead of 1)\n    Line #14590 (got 2 columns instead of 1)\n    Line #15808 (got 2 columns instead of 1)\n    Line #16109 (got 2 columns instead of 1)\n    Line #16163 (got 2 columns instead of 1)\n    Line #16469 (got 2 columns instead of 1)",
     "output_type": "error",
     "traceback": [
      "\u001b[1;31m---------------------------------------------------------------------------\u001b[0m",
      "\u001b[1;31mValueError\u001b[0m                                Traceback (most recent call last)",
      "Cell \u001b[1;32mIn[3], line 1\u001b[0m\n\u001b[1;32m----> 1\u001b[0m platform \u001b[39m=\u001b[39m np\u001b[39m.\u001b[39;49mgenfromtxt(\u001b[39m'\u001b[39;49m\u001b[39m../../data/vgsales.csv\u001b[39;49m\u001b[39m'\u001b[39;49m, \n\u001b[0;32m      2\u001b[0m               usecols\u001b[39m=\u001b[39;49m(\u001b[39m2\u001b[39;49m), dtype\u001b[39m=\u001b[39;49m\u001b[39mstr\u001b[39;49m, skip_header\u001b[39m=\u001b[39;49m\u001b[39m1\u001b[39;49m, \n\u001b[0;32m      3\u001b[0m               delimiter\u001b[39m=\u001b[39;49m\u001b[39m'\u001b[39;49m\u001b[39m,\u001b[39;49m\u001b[39m'\u001b[39;49m)\n\u001b[0;32m      4\u001b[0m platform\u001b[39m.\u001b[39mshape\n",
      "File \u001b[1;32mc:\\Users\\Jholman Cuartas\\AppData\\Local\\Programs\\Python\\Python311\\Lib\\site-packages\\numpy\\lib\\npyio.py:2291\u001b[0m, in \u001b[0;36mgenfromtxt\u001b[1;34m(fname, dtype, comments, delimiter, skip_header, skip_footer, converters, missing_values, filling_values, usecols, names, excludelist, deletechars, replace_space, autostrip, case_sensitive, defaultfmt, unpack, usemask, loose, invalid_raise, max_rows, encoding, ndmin, like)\u001b[0m\n\u001b[0;32m   2289\u001b[0m \u001b[39m# Raise an exception ?\u001b[39;00m\n\u001b[0;32m   2290\u001b[0m \u001b[39mif\u001b[39;00m invalid_raise:\n\u001b[1;32m-> 2291\u001b[0m     \u001b[39mraise\u001b[39;00m \u001b[39mValueError\u001b[39;00m(errmsg)\n\u001b[0;32m   2292\u001b[0m \u001b[39m# Issue a warning ?\u001b[39;00m\n\u001b[0;32m   2293\u001b[0m \u001b[39melse\u001b[39;00m:\n\u001b[0;32m   2294\u001b[0m     warnings\u001b[39m.\u001b[39mwarn(errmsg, ConversionWarning, stacklevel\u001b[39m=\u001b[39m\u001b[39m2\u001b[39m)\n",
      "\u001b[1;31mValueError\u001b[0m: Some errors were detected !\n    Line #3552 (got 2 columns instead of 1)\n    Line #8988 (got 2 columns instead of 1)\n    Line #10381 (got 2 columns instead of 1)\n    Line #14590 (got 2 columns instead of 1)\n    Line #15808 (got 2 columns instead of 1)\n    Line #16109 (got 2 columns instead of 1)\n    Line #16163 (got 2 columns instead of 1)\n    Line #16469 (got 2 columns instead of 1)"
     ]
    }
   ],
   "source": [
    "platform = np.genfromtxt('../../data/vgsales.csv', \n",
    "              usecols=(2), dtype=str, skip_header=1, \n",
    "              delimiter=',')\n",
    "platform.shape"
   ]
  },
  {
   "cell_type": "code",
   "execution_count": null,
   "metadata": {},
   "outputs": [],
   "source": [
    "year = np.genfromtxt('../../data/vgsales.csv', \n",
    "              usecols=(3), dtype=int, skip_header=1, delimiter=',')\n",
    "year.shape"
   ]
  },
  {
   "cell_type": "code",
   "execution_count": null,
   "metadata": {},
   "outputs": [],
   "source": [
    "genres = np.genfromtxt('../../data/vgsales.csv', \n",
    "              usecols=(4), dtype=str, skip_header=1, delimiter=',')\n",
    "genres.shape"
   ]
  },
  {
   "cell_type": "code",
   "execution_count": null,
   "metadata": {},
   "outputs": [],
   "source": [
    "publishers = np.genfromtxt('../../data/vgsales.csv', \n",
    "              usecols=(5), dtype=str, skip_header=1, delimiter=',')\n",
    "publishers.shape"
   ]
  },
  {
   "cell_type": "code",
   "execution_count": null,
   "metadata": {},
   "outputs": [],
   "source": [
    "# NA_Sales,EU_Sales,JP_Sales,Other_Sales\n",
    "sales = np.genfromtxt('../../data/vgsales.csv', \n",
    "              usecols=(6, 7, 8, 9), dtype=float, skip_header=1, delimiter=',')\n",
    "sales.shape"
   ]
  },
  {
   "cell_type": "code",
   "execution_count": null,
   "metadata": {},
   "outputs": [],
   "source": [
    "np.set_printoptions(suppress=True)\n",
    "sales"
   ]
  },
  {
   "cell_type": "code",
   "execution_count": null,
   "metadata": {},
   "outputs": [],
   "source": [
    "# Calcular ventas totales\n",
    "total_sales = np.sum(sales, axis=1)\n",
    "total_sales"
   ]
  },
  {
   "cell_type": "code",
   "execution_count": null,
   "metadata": {},
   "outputs": [],
   "source": [
    "# estadísticas sobre total_sales\n",
    "print(f\"{np.mean(total_sales)}\")\n",
    "print(f\"{np.median(total_sales)}\")\n",
    "print(f\"{np.max(total_sales)}\")\n",
    "print(f\"{np.min(total_sales)}\")\n",
    "print(f\"{np.std(total_sales)}\")\n",
    "#sale nan porque sales tiene elementos nan, por tanto no se pueden calcular \n",
    "# estadísticas correctamente\n"
   ]
  },
  {
   "cell_type": "code",
   "execution_count": null,
   "metadata": {},
   "outputs": [],
   "source": [
    "# Detectar si hay nan (missing values o valores faltantes):\n",
    "# isnan = np.isnan(total_sales)\n",
    "# isnan[isnan == True]\n",
    "\n",
    "print(f\"Hay NaN: {np.isnan(total_sales).any()}\")\n",
    "print(f\"Hay Infinito: {np.isinf(total_sales).any()}\")\n",
    "print(f\"Hay Infinito neg: {np.isneginf(total_sales).any()}\")"
   ]
  },
  {
   "cell_type": "code",
   "execution_count": null,
   "metadata": {},
   "outputs": [],
   "source": [
    "# Contar cuántos nan hay\n",
    "len(total_sales[np.isnan(total_sales)])"
   ]
  },
  {
   "cell_type": "code",
   "execution_count": null,
   "metadata": {},
   "outputs": [],
   "source": [
    "# Reemplazar por 0 o -1\n",
    "total_sales2 = np.nan_to_num(total_sales, nan=0)\n",
    "print(f\"{len(total_sales2)}\")\n",
    "print(f\"{np.isnan(total_sales2).any()}\") # False\n"
   ]
  },
  {
   "attachments": {},
   "cell_type": "markdown",
   "metadata": {},
   "source": [
    "axis=0: La operación se realiza a lo largo de las filas. En otras palabras, si tienes un array bidimensional (una matriz), axis=0 indica que la operación se realizará de forma independiente para cada columna, lo que resultará en un valor por columna. Por ejemplo, np.nanmean(sales, axis=0) calculará la media de cada columna, ignorando los NaN.\n",
    "\n",
    "axis=1: La operación se realiza a lo largo de las columnas. En un array bidimensional, axis=1 indica que la operación se realizará de forma independiente para cada fila, lo que resultará en un valor por fila. Por ejemplo, np.nanmean(sales, axis=1) calculará la media de cada fila, ignorando los NaN.\n",
    "\n",
    "Si no especificas el argumento axis, la operación se realizará en todos los elementos del array, independientemente de su forma. Por ejemplo, np.nanmean(sales) calcularía la media de todos los elementos en sales, ignorando los NaN."
   ]
  },
  {
   "cell_type": "code",
   "execution_count": null,
   "metadata": {},
   "outputs": [],
   "source": [
    "print(sales.shape)\n",
    "print(np.isnan(sales).any()) # True significa que hay nulos"
   ]
  },
  {
   "cell_type": "code",
   "execution_count": null,
   "metadata": {},
   "outputs": [],
   "source": [
    "# Calcular la media de cada columna ignorando los NaN\n",
    "mean_per_column = np.nanmean(sales, axis=0)\n",
    "\n",
    "# Crear una máscara booleana de los NaN en el array\n",
    "mask = np.isnan(sales) # Array de 4 columnas mask[:, 3]\n",
    "\n",
    "# Usar la máscara para reemplazar los NaN con la media de la columna correspondiente\n",
    "# shape: (16598, 4). shape[1] \n",
    "#           0    1\n",
    "for i in range(sales.shape[1]): # 0, 1, 2, 3\n",
    "    sales[mask[:, i], i] = mean_per_column[i]"
   ]
  },
  {
   "cell_type": "code",
   "execution_count": null,
   "metadata": {},
   "outputs": [],
   "source": [
    "print(sales.shape)\n",
    "print(np.isnan(sales).any()) # False significa que no hay nan"
   ]
  },
  {
   "cell_type": "code",
   "execution_count": null,
   "metadata": {},
   "outputs": [],
   "source": [
    "# Calcular ventas totales\n",
    "total_sales = np.sum(sales, axis=1)\n",
    "total_sales"
   ]
  },
  {
   "cell_type": "code",
   "execution_count": null,
   "metadata": {},
   "outputs": [],
   "source": [
    "# estadísticas sobre total_sales\n",
    "print(f\"{np.mean(total_sales)}\")\n",
    "print(f\"{np.median(total_sales)}\")\n",
    "print(f\"{np.max(total_sales)}\")\n",
    "print(f\"{np.min(total_sales)}\")\n",
    "print(f\"{np.std(total_sales)}\")\n",
    "#sale nan porque sales tiene elementos nan, por tanto no se pueden calcular \n",
    "# estadísticas correctamente\n"
   ]
  },
  {
   "cell_type": "code",
   "execution_count": null,
   "metadata": {},
   "outputs": [],
   "source": [
    "# Identificar los 10 videojuegos más vendidos\n",
    "total_sales = np.genfromtxt('../../data/vgsales.csv', \n",
    "              usecols=(10), dtype=float, skip_header=1, delimiter=',')\n",
    "\n",
    "indices = np.argsort(total_sales)[::-1]\n",
    "names[indices][:10]\n"
   ]
  },
  {
   "cell_type": "code",
   "execution_count": null,
   "metadata": {},
   "outputs": [],
   "source": [
    "# Calcular ventas totales por plataforma\n",
    "platform = np.genfromtxt('../../data/vgsales.csv', \n",
    "              usecols=(2), dtype=str, skip_header=1, delimiter=';', encoding=\"utf-8\")\n",
    "platform = np.unique(platform)\n",
    "platform"
   ]
  }
 ],
 "metadata": {
  "kernelspec": {
   "display_name": "Python 3",
   "language": "python",
   "name": "python3"
  },
  "language_info": {
   "codemirror_mode": {
    "name": "ipython",
    "version": 3
   },
   "file_extension": ".py",
   "mimetype": "text/x-python",
   "name": "python",
   "nbconvert_exporter": "python",
   "pygments_lexer": "ipython3",
   "version": "3.11.3"
  },
  "orig_nbformat": 4
 },
 "nbformat": 4,
 "nbformat_minor": 2
}
