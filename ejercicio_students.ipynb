{
 "cells": [
  {
   "attachments": {},
   "cell_type": "markdown",
   "metadata": {},
   "source": [
    "Numpy"
   ]
  },
  {
   "cell_type": "code",
   "execution_count": 3,
   "metadata": {},
   "outputs": [],
   "source": [
    "import numpy as np\n"
   ]
  },
  {
   "cell_type": "code",
   "execution_count": 4,
   "metadata": {},
   "outputs": [],
   "source": [
    "dataset = np.genfromtxt('data/StudentsPerformance.csv', delimiter=',', skip_header=1, dtype=int)"
   ]
  },
  {
   "cell_type": "code",
   "execution_count": 5,
   "metadata": {},
   "outputs": [
    {
     "data": {
      "text/plain": [
       "array([[-1, -1, -1, ..., 69, 90, 88],\n",
       "       [-1, -1, -1, ..., 90, 95, 93],\n",
       "       [-1, -1, -1, ..., 47, 57, 44],\n",
       "       ...,\n",
       "       [-1, -1, -1, ..., 59, 71, 65],\n",
       "       [-1, -1, -1, ..., 68, 78, 77],\n",
       "       [-1, -1, -1, ..., 77, 86, 86]])"
      ]
     },
     "execution_count": 5,
     "metadata": {},
     "output_type": "execute_result"
    }
   ],
   "source": [
    "dataset"
   ]
  },
  {
   "attachments": {},
   "cell_type": "markdown",
   "metadata": {},
   "source": [
    "filtros datos\n"
   ]
  },
  {
   "cell_type": "code",
   "execution_count": 6,
   "metadata": {},
   "outputs": [
    {
     "name": "stdout",
     "output_type": "stream",
     "text": [
      "2\n",
      "(999, 8)\n"
     ]
    }
   ],
   "source": [
    "print(dataset.ndim)\n",
    "print(dataset.shape)\n"
   ]
  },
  {
   "cell_type": "code",
   "execution_count": 7,
   "metadata": {},
   "outputs": [],
   "source": [
    "write_scores = dataset[:, -1]\n",
    "read_scores = dataset[:, -2]\n",
    "math_scores = dataset[:, -3]"
   ]
  },
  {
   "cell_type": "code",
   "execution_count": 8,
   "metadata": {},
   "outputs": [
    {
     "data": {
      "text/plain": [
       "(999,)"
      ]
     },
     "execution_count": 8,
     "metadata": {},
     "output_type": "execute_result"
    }
   ],
   "source": [
    "math_scores.shape"
   ]
  },
  {
   "attachments": {},
   "cell_type": "markdown",
   "metadata": {},
   "source": [
    "## Operaciones aritméticas"
   ]
  },
  {
   "attachments": {},
   "cell_type": "markdown",
   "metadata": {},
   "source": [
    "sumatorio de notas"
   ]
  },
  {
   "cell_type": "code",
   "execution_count": 9,
   "metadata": {},
   "outputs": [
    {
     "data": {
      "text/plain": [
       "array([247, 278, 148, 229, 232, 275, 122, 195, 148, 164, 135, 219, 220,\n",
       "       161, 222, 263,  78, 134, 173, 198])"
      ]
     },
     "execution_count": 9,
     "metadata": {},
     "output_type": "execute_result"
    }
   ],
   "source": [
    "scores = write_scores + read_scores + math_scores\n",
    "scores[:20]"
   ]
  },
  {
   "cell_type": "code",
   "execution_count": 10,
   "metadata": {},
   "outputs": [
    {
     "data": {
      "text/plain": [
       "(999,)"
      ]
     },
     "execution_count": 10,
     "metadata": {},
     "output_type": "execute_result"
    }
   ],
   "source": [
    "scores.shape"
   ]
  },
  {
   "attachments": {},
   "cell_type": "markdown",
   "metadata": {},
   "source": [
    "## nota media"
   ]
  },
  {
   "cell_type": "code",
   "execution_count": 11,
   "metadata": {},
   "outputs": [
    {
     "data": {
      "text/plain": [
       "array([82., 93., 49., 76., 77., 92., 41., 65., 49., 55., 45., 73., 73.,\n",
       "       54., 74., 88., 26., 45., 58., 66.])"
      ]
     },
     "execution_count": 11,
     "metadata": {},
     "output_type": "execute_result"
    }
   ],
   "source": [
    "final_scores = scores / 3\n",
    "final_scores = np.round(final_scores,0)\n",
    "final_scores[:20]"
   ]
  },
  {
   "cell_type": "code",
   "execution_count": 12,
   "metadata": {},
   "outputs": [
    {
     "data": {
      "text/plain": [
       "dtype('float64')"
      ]
     },
     "execution_count": 12,
     "metadata": {},
     "output_type": "execute_result"
    }
   ],
   "source": [
    "final_scores.dtype"
   ]
  },
  {
   "cell_type": "code",
   "execution_count": 13,
   "metadata": {},
   "outputs": [
    {
     "data": {
      "text/plain": [
       "array([82, 93, 49, 76, 77, 92, 41, 65, 49, 55, 45, 73, 73, 54, 74, 88, 26,\n",
       "       45, 58, 66])"
      ]
     },
     "execution_count": 13,
     "metadata": {},
     "output_type": "execute_result"
    }
   ],
   "source": [
    "final_scores = final_scores.astype(int)\n",
    "final_scores[:20]"
   ]
  },
  {
   "attachments": {},
   "cell_type": "markdown",
   "metadata": {},
   "source": [
    "## Ordenar"
   ]
  },
  {
   "cell_type": "code",
   "execution_count": 14,
   "metadata": {},
   "outputs": [
    {
     "name": "stdout",
     "output_type": "stream",
     "text": [
      "Nota mas baja: 9\n",
      "Nota mas alta: 9\n"
     ]
    }
   ],
   "source": [
    "final_scores_asc = np.sort(final_scores)\n",
    "print(f\"Nota mas baja: {final_scores_asc[0]}\")\n",
    "print(f\"Nota mas alta: {final_scores_asc[0]}\")"
   ]
  },
  {
   "attachments": {},
   "cell_type": "markdown",
   "metadata": {},
   "source": [
    "### Filtrar datos"
   ]
  },
  {
   "cell_type": "code",
   "execution_count": 15,
   "metadata": {},
   "outputs": [],
   "source": [
    "success_scores = final_scores[final_scores >= 50]\n",
    "fail_scores = final_scores[final_scores < 50]"
   ]
  },
  {
   "cell_type": "code",
   "execution_count": 16,
   "metadata": {},
   "outputs": [
    {
     "name": "stdout",
     "output_type": "stream",
     "text": [
      "success: (899,)\n",
      "fail:(100,)\n"
     ]
    }
   ],
   "source": [
    "print(f\"success: {success_scores.shape}\")\n",
    "print(f\"fail:{fail_scores.shape}\")"
   ]
  },
  {
   "cell_type": "code",
   "execution_count": 17,
   "metadata": {},
   "outputs": [
    {
     "data": {
      "text/plain": [
       "(array([  2,   6,   8,  10,  16,  17,  32,  51,  54,  58,  60,  65,  71,\n",
       "         73,  74,  75,  79,  80,  83,  90,  92, 130, 135, 142, 144, 173,\n",
       "        181, 183, 187, 203, 210, 216, 230, 249, 261, 264, 279, 280, 283,\n",
       "        295, 297, 306, 323, 326, 328, 330, 336, 337, 362, 374, 382, 383,\n",
       "        394, 400, 423, 447, 454, 465, 526, 527, 551, 553, 554, 563, 564,\n",
       "        574, 595, 600, 615, 639, 682, 705, 722, 723, 728, 730, 732, 776,\n",
       "        784, 786, 793, 806, 809, 810, 839, 841, 857, 861, 866, 882, 888,\n",
       "        894, 895, 901, 909, 920, 927, 977, 979, 987], dtype=int64),)"
      ]
     },
     "execution_count": 17,
     "metadata": {},
     "output_type": "execute_result"
    }
   ],
   "source": [
    "fail_index = np.where (final_scores < 50)\n",
    "fail_index"
   ]
  },
  {
   "cell_type": "code",
   "execution_count": 18,
   "metadata": {},
   "outputs": [
    {
     "data": {
      "text/plain": [
       "array([49, 41, 49, 45, 26, 45, 40, 46, 39,  9, 37, 40, 47, 46, 41, 26, 49,\n",
       "       46, 38, 32, 46, 43, 49, 49, 31, 49, 49, 49, 48, 47, 30, 38, 44, 48,\n",
       "       48, 47, 49, 46, 43, 43, 45, 49, 43, 23, 49, 40, 48, 30, 31, 43, 44,\n",
       "       41, 45, 46, 38, 45, 47, 32, 44, 39, 46, 46, 35, 48, 45, 49, 23, 29,\n",
       "       40, 48, 38, 39, 47, 44, 43, 48, 49, 41, 42, 30, 48, 42, 39, 47, 46,\n",
       "       34, 49, 40, 48, 48, 48, 35, 31, 41, 47, 45, 44, 48, 18, 45])"
      ]
     },
     "execution_count": 18,
     "metadata": {},
     "output_type": "execute_result"
    }
   ],
   "source": [
    "final_scores[fail_index]"
   ]
  },
  {
   "attachments": {},
   "cell_type": "markdown",
   "metadata": {},
   "source": [
    "### Estadísticas"
   ]
  },
  {
   "cell_type": "code",
   "execution_count": 19,
   "metadata": {},
   "outputs": [
    {
     "data": {
      "text/plain": [
       "41.82"
      ]
     },
     "execution_count": 19,
     "metadata": {},
     "output_type": "execute_result"
    }
   ],
   "source": [
    "np.mean(final_scores[fail_index])"
   ]
  },
  {
   "cell_type": "code",
   "execution_count": 20,
   "metadata": {},
   "outputs": [
    {
     "data": {
      "text/plain": [
       "70.64182424916574"
      ]
     },
     "execution_count": 20,
     "metadata": {},
     "output_type": "execute_result"
    }
   ],
   "source": [
    "np.mean(success_scores)"
   ]
  },
  {
   "attachments": {},
   "cell_type": "markdown",
   "metadata": {},
   "source": [
    "Cargar todas las columnas del dataset csv en arrays distintos"
   ]
  },
  {
   "attachments": {},
   "cell_type": "markdown",
   "metadata": {},
   "source": [
    "big_arrays"
   ]
  },
  {
   "cell_type": "code",
   "execution_count": 22,
   "metadata": {},
   "outputs": [],
   "source": [
    "big_array = np.random.rand(100000)"
   ]
  },
  {
   "cell_type": "code",
   "execution_count": 23,
   "metadata": {},
   "outputs": [],
   "source": [
    "big_array = np.random.rand(1000000000)"
   ]
  },
  {
   "cell_type": "code",
   "execution_count": 1,
   "metadata": {},
   "outputs": [
    {
     "ename": "NameError",
     "evalue": "name 'big_array' is not defined",
     "output_type": "error",
     "traceback": [
      "\u001b[1;31m---------------------------------------------------------------------------\u001b[0m",
      "\u001b[1;31mNameError\u001b[0m                                 Traceback (most recent call last)",
      "Cell \u001b[1;32mIn[1], line 2\u001b[0m\n\u001b[0;32m      1\u001b[0m suma \u001b[39m=\u001b[39m \u001b[39m0\u001b[39m\n\u001b[1;32m----> 2\u001b[0m \u001b[39mfor\u001b[39;00m score \u001b[39min\u001b[39;00m big_array:\n\u001b[0;32m      3\u001b[0m     suma \u001b[39m+\u001b[39m\u001b[39m=\u001b[39m score\n\u001b[0;32m      4\u001b[0m \u001b[39mprint\u001b[39m (suma)\n",
      "\u001b[1;31mNameError\u001b[0m: name 'big_array' is not defined"
     ]
    }
   ],
   "source": [
    "suma = 0\n",
    "for score in big_array:\n",
    "    suma += score\n",
    "print (suma)"
   ]
  }
 ],
 "metadata": {
  "kernelspec": {
   "display_name": "Python 3",
   "language": "python",
   "name": "python3"
  },
  "language_info": {
   "codemirror_mode": {
    "name": "ipython",
    "version": 3
   },
   "file_extension": ".py",
   "mimetype": "text/x-python",
   "name": "python",
   "nbconvert_exporter": "python",
   "pygments_lexer": "ipython3",
   "version": "3.11.3"
  },
  "orig_nbformat": 4
 },
 "nbformat": 4,
 "nbformat_minor": 2
}
