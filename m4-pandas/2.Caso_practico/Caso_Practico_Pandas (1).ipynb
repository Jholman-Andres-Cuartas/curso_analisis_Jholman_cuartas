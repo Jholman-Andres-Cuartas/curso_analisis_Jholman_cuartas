{
 "cells": [
  {
   "attachments": {},
   "cell_type": "markdown",
   "metadata": {
    "collapsed": false
   },
   "source": [
    "# Caso práctico Video Game Sales\n",
    "\n",
    "Descargar dataset de Kaggle: https://www.kaggle.com/gregorut/videogamesales\n",
    "\n",
    "Importante: usar el dataset CSV proporcionado para este ejercicio ya que contiene valores nulos creados para el apartado de valores faltantes."
   ]
  },
  {
   "attachments": {},
   "cell_type": "markdown",
   "metadata": {
    "collapsed": false
   },
   "source": [
    "## Importar librerías\n",
    "\n",
    "Importar pandas"
   ]
  },
  {
   "cell_type": "code",
   "execution_count": 1,
   "metadata": {
    "collapsed": false
   },
   "outputs": [],
   "source": [
    "import pandas as pd"
   ]
  },
  {
   "attachments": {},
   "cell_type": "markdown",
   "metadata": {
    "collapsed": false
   },
   "source": [
    "## Carga de datos CSV"
   ]
  },
  {
   "cell_type": "code",
   "execution_count": 2,
   "metadata": {
    "collapsed": false
   },
   "outputs": [],
   "source": [
    "df = pd.read_csv(r'C:\\Users\\Admin\\Desktop\\3.4.Numpy_Caso_Practico\\curso_analisis_datos-main\\m4-pandas\\2.Caso_practico\\vgsales_caso_practico.csv')"
   ]
  },
  {
   "attachments": {},
   "cell_type": "markdown",
   "metadata": {
    "collapsed": false
   },
   "source": [
    "## Inspección de los datos\n",
    "\n",
    "Verifica los primeros registros del conjunto de datos y obtén un resumen de las estadísticas generales.\n"
   ]
  },
  {
   "cell_type": "code",
   "execution_count": 4,
   "metadata": {
    "collapsed": false
   },
   "outputs": [
    {
     "name": "stdout",
     "output_type": "stream",
     "text": [
      "Primeros registros:\n",
      "   Rank                      Name Platform    Year         Genre Publisher   \n",
      "0     1                Wii Sports      Wii  2006.0        Sports  Nintendo  \\\n",
      "1     2         Super Mario Bros.      NES  1985.0      Platform  Nintendo   \n",
      "2     3            Mario Kart Wii      Wii  2008.0        Racing  Nintendo   \n",
      "3     4         Wii Sports Resort      Wii  2009.0        Sports  Nintendo   \n",
      "4     5  Pokemon Red/Pokemon Blue       GB  1996.0  Role-Playing  Nintendo   \n",
      "\n",
      "   NA_Sales  EU_Sales  JP_Sales  Other_Sales  Global_Sales  \n",
      "0     41.49     29.02      3.77         8.46         82.74  \n",
      "1     29.08      3.58      6.81         0.77         40.24  \n",
      "2     15.85     12.88      3.79         3.31         35.82  \n",
      "3     15.75     11.01      3.28         2.96         33.00  \n",
      "4     11.27      8.89     10.22         1.00         31.37  \n",
      "Resumen de estadísticas:\n",
      "               Rank          Year      NA_Sales      EU_Sales      JP_Sales   \n",
      "count  16598.000000  16327.000000  16598.000000  16598.000000  16598.000000  \\\n",
      "mean    8300.605254   2006.406443      0.264667      0.146652      0.077782   \n",
      "std     4791.853933      5.828981      0.816683      0.505351      0.309291   \n",
      "min        1.000000   1980.000000      0.000000      0.000000      0.000000   \n",
      "25%     4151.250000   2003.000000      0.000000      0.000000      0.000000   \n",
      "50%     8300.500000   2007.000000      0.080000      0.020000      0.000000   \n",
      "75%    12449.750000   2010.000000      0.240000      0.110000      0.040000   \n",
      "max    16600.000000   2020.000000     41.490000     29.020000     10.220000   \n",
      "\n",
      "        Other_Sales  Global_Sales  \n",
      "count  16598.000000  16596.000000  \n",
      "mean       0.048063      0.535448  \n",
      "std        0.188588      1.537945  \n",
      "min        0.000000      0.010000  \n",
      "25%        0.000000      0.060000  \n",
      "50%        0.010000      0.170000  \n",
      "75%        0.040000      0.470000  \n",
      "max       10.570000     82.740000  \n"
     ]
    }
   ],
   "source": [
    "## Inspección de los datos\n",
    "\n",
    "# Verifica los primeros registros del conjunto de datos y obtén un resumen de las estadísticas generales.\n",
    "import pandas as pd\n",
    "\n",
    "# Cargar el archivo CSV\n",
    "df = pd.read_csv(r'C:\\Users\\Admin\\Desktop\\3.4.Numpy_Caso_Practico\\curso_analisis_datos-main\\m4-pandas\\2.Caso_practico\\vgsales_caso_practico.csv')\n",
    "\n",
    "# Verificar los primeros registros\n",
    "primeros_registros = df.head()\n",
    "print(\"Primeros registros:\")\n",
    "print(primeros_registros)\n",
    "\n",
    "# Obtener un resumen de las estadísticas generales\n",
    "resumen_estadisticas = df.describe()\n",
    "print(\"Resumen de estadísticas:\")\n",
    "print(resumen_estadisticas)"
   ]
  },
  {
   "attachments": {},
   "cell_type": "markdown",
   "metadata": {
    "collapsed": false
   },
   "source": [
    "## Tratamiento de valores faltantes\n",
    "\n",
    "Verifica si hay valores faltantes y, si es necesario, realiza el tratamiento adecuado para cada caso.\n"
   ]
  },
  {
   "cell_type": "code",
   "execution_count": 8,
   "metadata": {
    "collapsed": false
   },
   "outputs": [
    {
     "name": "stdout",
     "output_type": "stream",
     "text": [
      "Valores faltantes:\n",
      "Rank              0\n",
      "Name              0\n",
      "Platform          0\n",
      "Year            271\n",
      "Genre             1\n",
      "Publisher        59\n",
      "NA_Sales          0\n",
      "EU_Sales          0\n",
      "JP_Sales          0\n",
      "Other_Sales       0\n",
      "Global_Sales      2\n",
      "dtype: int64\n"
     ]
    }
   ],
   "source": [
    "import pandas as pd\n",
    "\n",
    "# Cargar el archivo CSV\n",
    "df = pd.read_csv(r'C:\\Users\\Admin\\Desktop\\3.4.Numpy_Caso_Practico\\curso_analisis_datos-main\\m4-pandas\\2.Caso_practico\\vgsales_caso_practico.csv')\n",
    "\n",
    "# Verificar si hay valores faltantes\n",
    "valores_faltantes = df.isnull().sum()\n",
    "print(\"Valores faltantes:\")\n",
    "print(valores_faltantes)\n",
    "\n"
   ]
  },
  {
   "cell_type": "code",
   "execution_count": 7,
   "metadata": {},
   "outputs": [],
   "source": [
    "df_sin_faltantes = df.dropna()\n"
   ]
  },
  {
   "cell_type": "code",
   "execution_count": 9,
   "metadata": {},
   "outputs": [],
   "source": [
    "df['Year'].fillna(0, inplace=True)  # Reemplazar los valores faltantes en la columna 'Year' con 0\n",
    "df['Genre'].fillna('Desconocido', inplace=True)  # Reemplazar los valores faltantes en la columna 'Genre' con 'Desconocido'\n",
    "df['Publisher'].fillna('Desconocido', inplace=True)  # Reemplazar los valores faltantes en la columna 'Publisher' con 'Desconocido'\n",
    "df['Global_Sales'].fillna(0, inplace=True)  # Reemplazar los valores faltantes en la columna 'Global_Sales' con 0\n"
   ]
  },
  {
   "cell_type": "code",
   "execution_count": 10,
   "metadata": {},
   "outputs": [],
   "source": [
    "media_year = df['Year'].mean()\n",
    "df['Year'].fillna(media_year, inplace=True)  # Reemplazar los valores faltantes en la columna 'Year' con la media\n",
    "\n",
    "moda_genre = df['Genre'].mode()[0]\n",
    "df['Genre'].fillna(moda_genre, inplace=True)  # Reemplazar los valores faltantes en la columna 'Genre' con la moda\n",
    "\n",
    "moda_publisher = df['Publisher'].mode()[0]\n",
    "df['Publisher'].fillna(moda_publisher, inplace=True)  # Reemplazar los valores faltantes en la columna 'Publisher' con la moda\n",
    "\n",
    "media_global_sales = df['Global_Sales'].mean()\n",
    "df['Global_Sales'].fillna(media_global_sales, inplace=True)  # Reemplazar los valores faltantes en la columna 'Global_Sales' con la media\n"
   ]
  },
  {
   "attachments": {},
   "cell_type": "markdown",
   "metadata": {
    "collapsed": false
   },
   "source": [
    "## Estadísticas de agrupación\n",
    "\n",
    "Agrupa los datos por la columna 'Platform' y calcula las ventas totales para cada plataforma.\n"
   ]
  },
  {
   "cell_type": "code",
   "execution_count": 11,
   "metadata": {
    "collapsed": false
   },
   "outputs": [],
   "source": [
    "ventas_por_plataforma = df.groupby('Platform')['Global_Sales'].sum()\n"
   ]
  },
  {
   "cell_type": "code",
   "execution_count": 12,
   "metadata": {},
   "outputs": [
    {
     "name": "stdout",
     "output_type": "stream",
     "text": [
      "1251.5\n"
     ]
    }
   ],
   "source": [
    "ventas_ps2 = ventas_por_plataforma.loc['PS2']\n",
    "print(ventas_ps2)\n"
   ]
  },
  {
   "attachments": {},
   "cell_type": "markdown",
   "metadata": {
    "collapsed": false
   },
   "source": [
    "## Visualización de datos\n",
    "\n",
    "Crea un gráfico de barras para mostrar las ventas globales por plataforma.\n"
   ]
  },
  {
   "cell_type": "code",
   "execution_count": 13,
   "metadata": {
    "collapsed": false
   },
   "outputs": [
    {
     "data": {
      "image/png": "[encoded data removed]",
      "text/plain": [
       "<Figure size 1200x600 with 1 Axes>"
      ]
     },
     "metadata": {},
     "output_type": "display_data"
    }
   ],
   "source": [
    "import matplotlib.pyplot as plt\n",
    "\n",
    "# Configurar los datos de ventas por plataforma\n",
    "plataformas = ventas_por_plataforma.index\n",
    "ventas_globales = ventas_por_plataforma.values\n",
    "\n",
    "# Crear el gráfico de barras\n",
    "plt.figure(figsize=(12, 6))\n",
    "plt.bar(plataformas, ventas_globales)\n",
    "plt.xlabel('Plataforma')\n",
    "plt.ylabel('Ventas Globales')\n",
    "plt.title('Ventas Globales por Plataforma')\n",
    "\n",
    "# Rotar las etiquetas del eje x para una mejor legibilidad\n",
    "plt.xticks(rotation=90)\n",
    "\n",
    "# Mostrar el gráfico\n",
    "plt.show()\n"
   ]
  },
  {
   "attachments": {},
   "cell_type": "markdown",
   "metadata": {
    "collapsed": false
   },
   "source": [
    "## Creación de nuevas características\n",
    "\n",
    "Crea una nueva característica 'Sales_in_Millions' para hacer que las ventas sean más legibles, que muestre las ventas totales pero en millones."
   ]
  },
  {
   "cell_type": "code",
   "execution_count": 14,
   "metadata": {
    "collapsed": false
   },
   "outputs": [
    {
     "name": "stdout",
     "output_type": "stream",
     "text": [
      "   Rank                      Name Platform    Year         Genre Publisher   \n",
      "0     1                Wii Sports      Wii  2006.0        Sports  Nintendo  \\\n",
      "1     2         Super Mario Bros.      NES  1985.0      Platform  Nintendo   \n",
      "2     3            Mario Kart Wii      Wii  2008.0        Racing  Nintendo   \n",
      "3     4         Wii Sports Resort      Wii  2009.0        Sports  Nintendo   \n",
      "4     5  Pokemon Red/Pokemon Blue       GB  1996.0  Role-Playing  Nintendo   \n",
      "\n",
      "   NA_Sales  EU_Sales  JP_Sales  Other_Sales  Global_Sales  Sales_in_Millions  \n",
      "0     41.49     29.02      3.77         8.46         82.74         82740000.0  \n",
      "1     29.08      3.58      6.81         0.77         40.24         40240000.0  \n",
      "2     15.85     12.88      3.79         3.31         35.82         35820000.0  \n",
      "3     15.75     11.01      3.28         2.96         33.00         33000000.0  \n",
      "4     11.27      8.89     10.22         1.00         31.37         31370000.0  \n"
     ]
    }
   ],
   "source": [
    "# Crear la nueva característica 'Sales_in_Millions'\n",
    "df['Sales_in_Millions'] = df['Global_Sales'] * 1000000\n",
    "\n",
    "# Verificar los cambios\n",
    "print(df.head())\n"
   ]
  },
  {
   "attachments": {},
   "cell_type": "markdown",
   "metadata": {
    "collapsed": false
   },
   "source": [
    "## Agrupación avanzada:\n",
    "\n",
    "Agrupa por 'Year' y 'Platform' y calcula las ventas totales."
   ]
  },
  {
   "cell_type": "code",
   "execution_count": 15,
   "metadata": {
    "collapsed": false
   },
   "outputs": [
    {
     "name": "stdout",
     "output_type": "stream",
     "text": [
      "Year    Platform\n",
      "0.0     2600        10.51\n",
      "        3DS          1.18\n",
      "        DS           3.53\n",
      "        GB           1.03\n",
      "        GBA          4.94\n",
      "                    ...  \n",
      "2016.0  X360         0.83\n",
      "        XOne        12.37\n",
      "2017.0  PS4          0.03\n",
      "        PSV          0.02\n",
      "2020.0  DS           0.29\n",
      "Name: Global_Sales, Length: 257, dtype: float64\n"
     ]
    }
   ],
   "source": [
    "# Agrupación por 'Year' y 'Platform' y cálculo de las ventas totales\n",
    "ventas_totales = df.groupby(['Year', 'Platform'])['Global_Sales'].sum()\n",
    "\n",
    "# Verificar los resultados\n",
    "print(ventas_totales)\n"
   ]
  },
  {
   "attachments": {},
   "cell_type": "markdown",
   "metadata": {
    "collapsed": false
   },
   "source": [
    "## Tratamiento de columnas de texto\n",
    "\n",
    "Transforma el género en una variable categórica numerada.\n"
   ]
  },
  {
   "cell_type": "code",
   "execution_count": 16,
   "metadata": {
    "collapsed": false
   },
   "outputs": [
    {
     "name": "stdout",
     "output_type": "stream",
     "text": [
      "              Genre  Genre_Code\n",
      "0            Sports          11\n",
      "1          Platform           5\n",
      "2            Racing           7\n",
      "3            Sports          11\n",
      "4      Role-Playing           8\n",
      "...             ...         ...\n",
      "16593      Platform           5\n",
      "16594       Shooter           9\n",
      "16595        Racing           7\n",
      "16596        Puzzle           6\n",
      "16597      Platform           5\n",
      "\n",
      "[16598 rows x 2 columns]\n"
     ]
    }
   ],
   "source": [
    "# Transformar la columna 'Genre' en una variable categórica numerada\n",
    "df['Genre_Code'] = df['Genre'].astype('category').cat.codes\n",
    "\n",
    "# Verificar los resultados\n",
    "print(df[['Genre', 'Genre_Code']])\n"
   ]
  },
  {
   "attachments": {},
   "cell_type": "markdown",
   "metadata": {
    "collapsed": false
   },
   "source": [
    "## Correlación entre características\n",
    "\n",
    "Examina la correlación entre las ventas en diferentes regiones utilizando la función corr() de pandas."
   ]
  },
  {
   "cell_type": "code",
   "execution_count": 17,
   "metadata": {
    "collapsed": false
   },
   "outputs": [
    {
     "name": "stdout",
     "output_type": "stream",
     "text": [
      "             NA_Sales  EU_Sales  JP_Sales  Other_Sales\n",
      "NA_Sales     1.000000  0.767727  0.449787     0.634737\n",
      "EU_Sales     0.767727  1.000000  0.435584     0.726385\n",
      "JP_Sales     0.449787  0.435584  1.000000     0.290186\n",
      "Other_Sales  0.634737  0.726385  0.290186     1.000000\n"
     ]
    }
   ],
   "source": [
    "# Calcular la correlación entre las ventas en diferentes regiones\n",
    "correlation = df[['NA_Sales', 'EU_Sales', 'JP_Sales', 'Other_Sales']].corr()\n",
    "\n",
    "# Mostrar la matriz de correlación\n",
    "print(correlation)\n"
   ]
  },
  {
   "attachments": {},
   "cell_type": "markdown",
   "metadata": {
    "collapsed": false
   },
   "source": [
    "## Operaciones con strings\n",
    "\n",
    "Crea una nueva característica que contenga la primera letra del nombre del juego"
   ]
  },
  {
   "cell_type": "code",
   "execution_count": 19,
   "metadata": {
    "collapsed": false
   },
   "outputs": [
    {
     "name": "stdout",
     "output_type": "stream",
     "text": [
      "   Rank                      Name Platform    Year         Genre Publisher   \n",
      "0     1                Wii Sports      Wii  2006.0        Sports  Nintendo  \\\n",
      "1     2         Super Mario Bros.      NES  1985.0      Platform  Nintendo   \n",
      "2     3            Mario Kart Wii      Wii  2008.0        Racing  Nintendo   \n",
      "3     4         Wii Sports Resort      Wii  2009.0        Sports  Nintendo   \n",
      "4     5  Pokemon Red/Pokemon Blue       GB  1996.0  Role-Playing  Nintendo   \n",
      "\n",
      "   NA_Sales  EU_Sales  JP_Sales  Other_Sales  Global_Sales  Sales_in_Millions   \n",
      "0     41.49     29.02      3.77         8.46         82.74         82740000.0  \\\n",
      "1     29.08      3.58      6.81         0.77         40.24         40240000.0   \n",
      "2     15.85     12.88      3.79         3.31         35.82         35820000.0   \n",
      "3     15.75     11.01      3.28         2.96         33.00         33000000.0   \n",
      "4     11.27      8.89     10.22         1.00         31.37         31370000.0   \n",
      "\n",
      "   Genre_Code First_Letter  \n",
      "0          11            W  \n",
      "1           5            S  \n",
      "2           7            M  \n",
      "3          11            W  \n",
      "4           8            P  \n"
     ]
    }
   ],
   "source": [
    "# Crear una nueva columna 'First_Letter' con la primera letra del nombre del juego\n",
    "df['First_Letter'] = df['Name'].str[0]\n",
    "\n",
    "# Mostrar el DataFrame actualizado\n",
    "print(df.head())\n"
   ]
  },
  {
   "attachments": {},
   "cell_type": "markdown",
   "metadata": {
    "collapsed": false
   },
   "source": [
    "## Recuento\n",
    "\n",
    "Cuenta cuántos juegos comienzan con cada letra.\n"
   ]
  },
  {
   "cell_type": "code",
   "execution_count": 20,
   "metadata": {
    "collapsed": false
   },
   "outputs": [
    {
     "name": "stdout",
     "output_type": "stream",
     "text": [
      "First_Letter\n",
      "S    1909\n",
      "T    1755\n",
      "M    1430\n",
      "D    1252\n",
      "N     924\n",
      "B     891\n",
      "C     880\n",
      "P     860\n",
      "F     772\n",
      "R     717\n",
      "A     667\n",
      "G     608\n",
      "W     604\n",
      "H     535\n",
      "L     449\n",
      "K     416\n",
      "J     403\n",
      "E     283\n",
      "I     238\n",
      "O     190\n",
      "Y     153\n",
      "V     152\n",
      "U     151\n",
      "Z      93\n",
      "X      84\n",
      "1      27\n",
      "Q      27\n",
      "2      24\n",
      "3      12\n",
      "7      11\n",
      "4      10\n",
      "0      10\n",
      ".      10\n",
      "i       7\n",
      "5       7\n",
      "p       6\n",
      "d       5\n",
      "[       5\n",
      "e       4\n",
      "t       4\n",
      "u       3\n",
      "9       2\n",
      "n       2\n",
      "'       1\n",
      "w       1\n",
      "6       1\n",
      "¡       1\n",
      "f       1\n",
      "h       1\n",
      "Name: count, dtype: int64\n"
     ]
    }
   ],
   "source": [
    "# Contar cuántos juegos comienzan con cada letra\n",
    "letter_counts = df['First_Letter'].value_counts()\n",
    "\n",
    "# Mostrar el resultado\n",
    "print(letter_counts)\n"
   ]
  },
  {
   "attachments": {},
   "cell_type": "markdown",
   "metadata": {
    "collapsed": false
   },
   "source": [
    "## Ordenación de datos\n",
    "\n",
    "Ordena el DataFrame por ventas globales en orden descendente."
   ]
  },
  {
   "cell_type": "code",
   "execution_count": 21,
   "metadata": {
    "collapsed": false
   },
   "outputs": [
    {
     "name": "stdout",
     "output_type": "stream",
     "text": [
      "        Rank                                  Name Platform    Year   \n",
      "0          1                            Wii Sports      Wii  2006.0  \\\n",
      "1          2                     Super Mario Bros.      NES  1985.0   \n",
      "2          3                        Mario Kart Wii      Wii  2008.0   \n",
      "3          4                     Wii Sports Resort      Wii  2009.0   \n",
      "4          5              Pokemon Red/Pokemon Blue       GB  1996.0   \n",
      "...      ...                                   ...      ...     ...   \n",
      "16188  16191                      Toro to Morimori      PS3  2009.0   \n",
      "16189  16192  Sonic & All-Stars Racing Transformed       PC  2013.0   \n",
      "16597  16600                      Spirits & Spells      GBA  2003.0   \n",
      "279      280                       Madden NFL 2003      PS2  2002.0   \n",
      "6          7                 New Super Mario Bros.       DS  2006.0   \n",
      "\n",
      "              Genre                    Publisher  NA_Sales  EU_Sales   \n",
      "0            Sports                     Nintendo     41.49     29.02  \\\n",
      "1          Platform                     Nintendo     29.08      3.58   \n",
      "2            Racing                     Nintendo     15.85     12.88   \n",
      "3            Sports                     Nintendo     15.75     11.01   \n",
      "4      Role-Playing                     Nintendo     11.27      8.89   \n",
      "...             ...                          ...       ...       ...   \n",
      "16188          Misc  Sony Computer Entertainment      0.00      0.00   \n",
      "16189        Racing                         Sega      0.00      0.01   \n",
      "16597      Platform                      Wanadoo      0.01      0.00   \n",
      "279          Sports              Electronic Arts      3.36      0.21   \n",
      "6          Platform                     Nintendo     11.38      9.23   \n",
      "\n",
      "       JP_Sales  Other_Sales  Global_Sales  Sales_in_Millions  Genre_Code   \n",
      "0          3.77         8.46         82.74         82740000.0          11  \\\n",
      "1          6.81         0.77         40.24         40240000.0           5   \n",
      "2          3.79         3.31         35.82         35820000.0           7   \n",
      "3          3.28         2.96         33.00         33000000.0          11   \n",
      "4         10.22         1.00         31.37         31370000.0           8   \n",
      "...         ...          ...           ...                ...         ...   \n",
      "16188      0.01         0.00          0.01            10000.0           4   \n",
      "16189      0.00         0.00          0.01            10000.0           7   \n",
      "16597      0.00         0.00          0.01            10000.0           5   \n",
      "279        0.01         0.56          0.00                0.0          11   \n",
      "6          6.50         2.90          0.00                0.0           5   \n",
      "\n",
      "      First_Letter  \n",
      "0                W  \n",
      "1                S  \n",
      "2                M  \n",
      "3                W  \n",
      "4                P  \n",
      "...            ...  \n",
      "16188            T  \n",
      "16189            S  \n",
      "16597            S  \n",
      "279              M  \n",
      "6                N  \n",
      "\n",
      "[16598 rows x 14 columns]\n"
     ]
    }
   ],
   "source": [
    "# Ordenar el DataFrame por ventas globales en orden descendente\n",
    "df_sorted = df.sort_values(by='Global_Sales', ascending=False)\n",
    "\n",
    "# Mostrar el DataFrame ordenado\n",
    "print(df_sorted)\n"
   ]
  },
  {
   "attachments": {},
   "cell_type": "markdown",
   "metadata": {
    "collapsed": false
   },
   "source": [
    "## Reset de índice\n",
    "\n",
    "Si en algún momento hemos filtrado el DataFrame o lo hemos alterado de manera que el índice ya no es una secuencia continua de enteros, puede ser útil restablecer el índice.\n"
   ]
  },
  {
   "cell_type": "code",
   "execution_count": 22,
   "metadata": {
    "collapsed": false
   },
   "outputs": [
    {
     "name": "stdout",
     "output_type": "stream",
     "text": [
      "        Rank                                              Name Platform   \n",
      "0          1                                        Wii Sports      Wii  \\\n",
      "1          2                                 Super Mario Bros.      NES   \n",
      "2          3                                    Mario Kart Wii      Wii   \n",
      "3          4                                 Wii Sports Resort      Wii   \n",
      "4          5                          Pokemon Red/Pokemon Blue       GB   \n",
      "...      ...                                               ...      ...   \n",
      "16593  16596                Woody Woodpecker in Crazy Castle 5      GBA   \n",
      "16594  16597                     Men in Black II: Alien Escape       GC   \n",
      "16595  16598  SCORE International Baja 1000: The Official Game      PS2   \n",
      "16596  16599                                        Know How 2       DS   \n",
      "16597  16600                                  Spirits & Spells      GBA   \n",
      "\n",
      "         Year         Genre   Publisher  NA_Sales  EU_Sales  JP_Sales   \n",
      "0      2006.0        Sports    Nintendo     41.49     29.02      3.77  \\\n",
      "1      1985.0      Platform    Nintendo     29.08      3.58      6.81   \n",
      "2      2008.0        Racing    Nintendo     15.85     12.88      3.79   \n",
      "3      2009.0        Sports    Nintendo     15.75     11.01      3.28   \n",
      "4      1996.0  Role-Playing    Nintendo     11.27      8.89     10.22   \n",
      "...       ...           ...         ...       ...       ...       ...   \n",
      "16593  2002.0      Platform       Kemco      0.01      0.00      0.00   \n",
      "16594  2003.0       Shooter  Infogrames      0.01      0.00      0.00   \n",
      "16595  2008.0        Racing  Activision      0.00      0.00      0.00   \n",
      "16596  2010.0        Puzzle    7G//AMES      0.00      0.01      0.00   \n",
      "16597  2003.0      Platform     Wanadoo      0.01      0.00      0.00   \n",
      "\n",
      "       Other_Sales  Global_Sales  Sales_in_Millions  Genre_Code First_Letter  \n",
      "0             8.46         82.74         82740000.0          11            W  \n",
      "1             0.77         40.24         40240000.0           5            S  \n",
      "2             3.31         35.82         35820000.0           7            M  \n",
      "3             2.96         33.00         33000000.0          11            W  \n",
      "4             1.00         31.37         31370000.0           8            P  \n",
      "...            ...           ...                ...         ...          ...  \n",
      "16593         0.00          0.01            10000.0           5            W  \n",
      "16594         0.00          0.01            10000.0           9            M  \n",
      "16595         0.00          0.01            10000.0           7            S  \n",
      "16596         0.00          0.01            10000.0           6            K  \n",
      "16597         0.00          0.01            10000.0           5            S  \n",
      "\n",
      "[16598 rows x 14 columns]\n"
     ]
    }
   ],
   "source": [
    "# Restablecer el índice del DataFrame\n",
    "df_reset = df.reset_index(drop=True)\n",
    "\n",
    "# Mostrar el DataFrame con el índice restablecido\n",
    "print(df_reset)\n"
   ]
  },
  {
   "attachments": {},
   "cell_type": "markdown",
   "metadata": {
    "collapsed": false
   },
   "source": [
    "## Eliminación de columnas innecesarias\n",
    "\n",
    "Podemos eliminar columnas que no necesitaremos para futuros análisis. Por ejemplo, podemos eliminar la columna 'Rank'.\n"
   ]
  },
  {
   "cell_type": "code",
   "execution_count": 23,
   "metadata": {
    "collapsed": false
   },
   "outputs": [
    {
     "name": "stdout",
     "output_type": "stream",
     "text": [
      "                                                   Name Platform    Year   \n",
      "0                                            Wii Sports      Wii  2006.0  \\\n",
      "1                                     Super Mario Bros.      NES  1985.0   \n",
      "2                                        Mario Kart Wii      Wii  2008.0   \n",
      "3                                     Wii Sports Resort      Wii  2009.0   \n",
      "4                              Pokemon Red/Pokemon Blue       GB  1996.0   \n",
      "...                                                 ...      ...     ...   \n",
      "16593                Woody Woodpecker in Crazy Castle 5      GBA  2002.0   \n",
      "16594                     Men in Black II: Alien Escape       GC  2003.0   \n",
      "16595  SCORE International Baja 1000: The Official Game      PS2  2008.0   \n",
      "16596                                        Know How 2       DS  2010.0   \n",
      "16597                                  Spirits & Spells      GBA  2003.0   \n",
      "\n",
      "              Genre   Publisher  NA_Sales  EU_Sales  JP_Sales  Other_Sales   \n",
      "0            Sports    Nintendo     41.49     29.02      3.77         8.46  \\\n",
      "1          Platform    Nintendo     29.08      3.58      6.81         0.77   \n",
      "2            Racing    Nintendo     15.85     12.88      3.79         3.31   \n",
      "3            Sports    Nintendo     15.75     11.01      3.28         2.96   \n",
      "4      Role-Playing    Nintendo     11.27      8.89     10.22         1.00   \n",
      "...             ...         ...       ...       ...       ...          ...   \n",
      "16593      Platform       Kemco      0.01      0.00      0.00         0.00   \n",
      "16594       Shooter  Infogrames      0.01      0.00      0.00         0.00   \n",
      "16595        Racing  Activision      0.00      0.00      0.00         0.00   \n",
      "16596        Puzzle    7G//AMES      0.00      0.01      0.00         0.00   \n",
      "16597      Platform     Wanadoo      0.01      0.00      0.00         0.00   \n",
      "\n",
      "       Global_Sales  Sales_in_Millions  Genre_Code First_Letter  \n",
      "0             82.74         82740000.0          11            W  \n",
      "1             40.24         40240000.0           5            S  \n",
      "2             35.82         35820000.0           7            M  \n",
      "3             33.00         33000000.0          11            W  \n",
      "4             31.37         31370000.0           8            P  \n",
      "...             ...                ...         ...          ...  \n",
      "16593          0.01            10000.0           5            W  \n",
      "16594          0.01            10000.0           9            M  \n",
      "16595          0.01            10000.0           7            S  \n",
      "16596          0.01            10000.0           6            K  \n",
      "16597          0.01            10000.0           5            S  \n",
      "\n",
      "[16598 rows x 13 columns]\n"
     ]
    }
   ],
   "source": [
    "# Eliminar la columna 'Rank'\n",
    "df = df.drop('Rank', axis=1)\n",
    "\n",
    "# Mostrar el DataFrame actualizado\n",
    "print(df)\n"
   ]
  },
  {
   "attachments": {},
   "cell_type": "markdown",
   "metadata": {
    "collapsed": false
   },
   "source": [
    "## Identificación de Outliers\n",
    "\n",
    "Podemos usar el método del rango intercuartil (IQR) para detectar outliers en la columna 'Global_Sales'.\n",
    "\n",
    "Elimina los outliers u obtén un dataframe sin outliers en la columna GlobalSales."
   ]
  },
  {
   "cell_type": "code",
   "execution_count": 24,
   "metadata": {
    "collapsed": false
   },
   "outputs": [],
   "source": [
    "# Calcular los valores del primer y tercer cuartil:\n",
    "Q1 = df['Global_Sales'].quantile(0.25)\n",
    "Q3 = df['Global_Sales'].quantile(0.75)"
   ]
  },
  {
   "cell_type": "code",
   "execution_count": 25,
   "metadata": {},
   "outputs": [],
   "source": [
    "# Calcular el rango intercuartil (IQR):\n",
    "IQR = Q3 - Q1"
   ]
  },
  {
   "cell_type": "code",
   "execution_count": 26,
   "metadata": {},
   "outputs": [],
   "source": [
    "# Definir los límites inferior y superior para identificar los outliers:\n",
    "lower_bound = Q1 - 1.5 * IQR\n",
    "upper_bound = Q3 + 1.5 * IQR\n"
   ]
  },
  {
   "cell_type": "code",
   "execution_count": 28,
   "metadata": {},
   "outputs": [],
   "source": [
    "# Filtrar el DataFrame para eliminar los outliers:\n",
    "df_without_outliers = df[(df['Global_Sales'] >= lower_bound) & (df['Global_Sales'] <= upper_bound)]\n"
   ]
  },
  {
   "attachments": {},
   "cell_type": "markdown",
   "metadata": {
    "collapsed": false
   },
   "source": [
    "## Uso de apply para operaciones de columna\n",
    "\n",
    "Supongamos que queremos crear una nueva columna que sea GlobalSales pero con el IVA añadido, por ejemplo global_sales_iva"
   ]
  },
  {
   "cell_type": "code",
   "execution_count": 29,
   "metadata": {
    "collapsed": false
   },
   "outputs": [],
   "source": [
    "# Definir una función para calcular el valor con el IVA añadido\n",
    "def add_iva(value):\n",
    "    iva = value * 0.16  # Supongamos que el IVA es del 16%\n",
    "    return value + iva\n",
    "\n",
    "# Aplicar la función a la columna 'Global_Sales' y crear una nueva columna 'global_sales_iva'\n",
    "df['global_sales_iva'] = df['Global_Sales'].apply(add_iva)"
   ]
  },
  {
   "cell_type": "code",
   "execution_count": 30,
   "metadata": {},
   "outputs": [
    {
     "name": "stdout",
     "output_type": "stream",
     "text": [
      "                                                   Name Platform    Year   \n",
      "0                                            Wii Sports      Wii  2006.0  \\\n",
      "1                                     Super Mario Bros.      NES  1985.0   \n",
      "2                                        Mario Kart Wii      Wii  2008.0   \n",
      "3                                     Wii Sports Resort      Wii  2009.0   \n",
      "4                              Pokemon Red/Pokemon Blue       GB  1996.0   \n",
      "...                                                 ...      ...     ...   \n",
      "16593                Woody Woodpecker in Crazy Castle 5      GBA  2002.0   \n",
      "16594                     Men in Black II: Alien Escape       GC  2003.0   \n",
      "16595  SCORE International Baja 1000: The Official Game      PS2  2008.0   \n",
      "16596                                        Know How 2       DS  2010.0   \n",
      "16597                                  Spirits & Spells      GBA  2003.0   \n",
      "\n",
      "              Genre   Publisher  NA_Sales  EU_Sales  JP_Sales  Other_Sales   \n",
      "0            Sports    Nintendo     41.49     29.02      3.77         8.46  \\\n",
      "1          Platform    Nintendo     29.08      3.58      6.81         0.77   \n",
      "2            Racing    Nintendo     15.85     12.88      3.79         3.31   \n",
      "3            Sports    Nintendo     15.75     11.01      3.28         2.96   \n",
      "4      Role-Playing    Nintendo     11.27      8.89     10.22         1.00   \n",
      "...             ...         ...       ...       ...       ...          ...   \n",
      "16593      Platform       Kemco      0.01      0.00      0.00         0.00   \n",
      "16594       Shooter  Infogrames      0.01      0.00      0.00         0.00   \n",
      "16595        Racing  Activision      0.00      0.00      0.00         0.00   \n",
      "16596        Puzzle    7G//AMES      0.00      0.01      0.00         0.00   \n",
      "16597      Platform     Wanadoo      0.01      0.00      0.00         0.00   \n",
      "\n",
      "       Global_Sales  Sales_in_Millions  Genre_Code First_Letter   \n",
      "0             82.74         82740000.0          11            W  \\\n",
      "1             40.24         40240000.0           5            S   \n",
      "2             35.82         35820000.0           7            M   \n",
      "3             33.00         33000000.0          11            W   \n",
      "4             31.37         31370000.0           8            P   \n",
      "...             ...                ...         ...          ...   \n",
      "16593          0.01            10000.0           5            W   \n",
      "16594          0.01            10000.0           9            M   \n",
      "16595          0.01            10000.0           7            S   \n",
      "16596          0.01            10000.0           6            K   \n",
      "16597          0.01            10000.0           5            S   \n",
      "\n",
      "       global_sales_iva  \n",
      "0               95.9784  \n",
      "1               46.6784  \n",
      "2               41.5512  \n",
      "3               38.2800  \n",
      "4               36.3892  \n",
      "...                 ...  \n",
      "16593            0.0116  \n",
      "16594            0.0116  \n",
      "16595            0.0116  \n",
      "16596            0.0116  \n",
      "16597            0.0116  \n",
      "\n",
      "[16598 rows x 14 columns]\n"
     ]
    }
   ],
   "source": [
    "# Definir una función para calcular el valor con el IVA añadido\n",
    "def add_iva(value):\n",
    "    iva = value * 0.16  # Supongamos que el IVA es del 16%\n",
    "    return value + iva\n",
    "\n",
    "# Aplicar la función a la columna 'Global_Sales' y crear una nueva columna 'global_sales_iva'\n",
    "df['global_sales_iva'] = df['Global_Sales'].apply(add_iva)\n",
    "\n",
    "# Mostrar el DataFrame con la nueva columna\n",
    "print(df)\n"
   ]
  },
  {
   "attachments": {},
   "cell_type": "markdown",
   "metadata": {
    "collapsed": false
   },
   "source": [
    "## Uso de iloc para seleccionar datos\n",
    "\n",
    "iloc es útil para seleccionar filas y columnas por posición. Por ejemplo, si queremos seleccionar las primeras 5 filas y las primeras 3 columnas.\n"
   ]
  },
  {
   "cell_type": "code",
   "execution_count": 31,
   "metadata": {
    "collapsed": false
   },
   "outputs": [
    {
     "name": "stdout",
     "output_type": "stream",
     "text": [
      "                       Name Platform    Year\n",
      "0                Wii Sports      Wii  2006.0\n",
      "1         Super Mario Bros.      NES  1985.0\n",
      "2            Mario Kart Wii      Wii  2008.0\n",
      "3         Wii Sports Resort      Wii  2009.0\n",
      "4  Pokemon Red/Pokemon Blue       GB  1996.0\n"
     ]
    }
   ],
   "source": [
    "# Seleccionar las primeras 5 filas y las primeras 3 columnas\n",
    "subset = df.iloc[:5, :3]\n",
    "\n",
    "# Mostrar el subset de datos seleccionado\n",
    "print(subset)\n"
   ]
  },
  {
   "attachments": {},
   "cell_type": "markdown",
   "metadata": {
    "collapsed": false
   },
   "source": [
    "## Guardar DataFrame\n",
    "\n",
    "Finalmente, guardamos el DataFrame con todas las nuevas características y transformaciones en un nuevo archivo CSV.\n"
   ]
  },
  {
   "cell_type": "code",
   "execution_count": 33,
   "metadata": {
    "collapsed": false
   },
   "outputs": [],
   "source": [
    "# Guardar el DataFrame en un nuevo archivo CSV\n",
    "df.to_csv(r'C:\\Users\\Admin\\Desktop\\3.4.Numpy_Caso_Practico\\curso_analisis_datos-main\\m4-pandas\\2.Caso_practico\\casopreactico_pandas\\caso_practico_pandas.csv', index=False)"
   ]
  }
 ],
 "metadata": {
  "kernelspec": {
   "display_name": "Python 3",
   "language": "python",
   "name": "python3"
  },
  "language_info": {
   "codemirror_mode": {
    "name": "ipython",
    "version": 2
   },
   "file_extension": ".py",
   "mimetype": "text/x-python",
   "name": "python",
   "nbconvert_exporter": "python",
   "pygments_lexer": "ipython2",
   "version": "2.7.6"
  }
 },
 "nbformat": 4,
 "nbformat_minor": 0
}
