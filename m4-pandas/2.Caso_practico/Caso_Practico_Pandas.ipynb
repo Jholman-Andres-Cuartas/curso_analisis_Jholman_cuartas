{
 "cells": [
  {
   "attachments": {},
   "cell_type": "markdown",
   "metadata": {
    "collapsed": false
   },
   "source": [
    "# Caso práctico Video Game Sales\n",
    "\n",
    "Descargar dataset de Kaggle: https://www.kaggle.com/gregorut/videogamesales\n",
    "\n",
    "Importante: usar el dataset CSV proporcionado para este ejercicio ya que contiene valores nulos creados para el apartado de valores faltantes."
   ]
  },
  {
   "attachments": {},
   "cell_type": "markdown",
   "metadata": {
    "collapsed": false
   },
   "source": [
    "## Importar librerías\n",
    "\n",
    "Importar pandas"
   ]
  },
  {
   "cell_type": "code",
   "execution_count": 1,
   "metadata": {
    "collapsed": false
   },
   "outputs": [],
   "source": [
    "import pandas as pd\n"
   ]
  },
  {
   "attachments": {},
   "cell_type": "markdown",
   "metadata": {
    "collapsed": false
   },
   "source": [
    "## Carga de datos CSV"
   ]
  },
  {
   "cell_type": "code",
   "execution_count": 2,
   "metadata": {
    "collapsed": false
   },
   "outputs": [],
   "source": [
    "df = pd.read_csv(r'C:\\\\Users\\\\Jholman Cuartas\\\\Desktop\\\\curso_analisis_Jholman_cuartas\\\\m4-pandas\\\\2.Caso_practico\\\\vgsales_caso_practico.csv')"
   ]
  },
  {
   "attachments": {},
   "cell_type": "markdown",
   "metadata": {
    "collapsed": false
   },
   "source": [
    "## Inspección de los datos\n",
    "\n",
    "Verifica los primeros registros del conjunto de datos y obtén un resumen de las estadísticas generales.\n"
   ]
  },
  {
   "cell_type": "code",
   "execution_count": 3,
   "metadata": {
    "collapsed": false
   },
   "outputs": [
    {
     "name": "stdout",
     "output_type": "stream",
     "text": [
      "Primeros registros:\n",
      "                       Name Platform    Year         Genre Publisher  \\\n",
      "0                Wii Sports      Wii  2006.0        Sports  Nintendo   \n",
      "1         Super Mario Bros.      NES  1985.0      Platform  Nintendo   \n",
      "2            Mario Kart Wii      Wii  2008.0        Racing  Nintendo   \n",
      "3         Wii Sports Resort      Wii  2009.0        Sports  Nintendo   \n",
      "4  Pokemon Red/Pokemon Blue       GB  1996.0  Role-Playing  Nintendo   \n",
      "\n",
      "   NA_Sales  EU_Sales  JP_Sales  Other_Sales  Global_Sales  Sales_in_Millions  \\\n",
      "0     41.49     29.02      3.77         8.46         82.74         82740000.0   \n",
      "1     29.08      3.58      6.81         0.77         40.24         40240000.0   \n",
      "2     15.85     12.88      3.79         3.31         35.82         35820000.0   \n",
      "3     15.75     11.01      3.28         2.96         33.00         33000000.0   \n",
      "4     11.27      8.89     10.22         1.00         31.37         31370000.0   \n",
      "\n",
      "   Genre_Code First_Letter  global_sales_iva  \n",
      "0          10            W           95.9784  \n",
      "1           4            S           46.6784  \n",
      "2           6            M           41.5512  \n",
      "3          10            W           38.2800  \n",
      "4           7            P           36.3892  \n",
      "Resumen de estadísticas:\n",
      "               Year      NA_Sales      EU_Sales      JP_Sales   Other_Sales  \\\n",
      "count  16598.000000  16598.000000  16598.000000  16598.000000  16598.000000   \n",
      "mean    1973.647307      0.264667      0.146652      0.077782      0.048063   \n",
      "std      254.346809      0.816683      0.505351      0.309291      0.188588   \n",
      "min        0.000000      0.000000      0.000000      0.000000      0.000000   \n",
      "25%     2003.000000      0.000000      0.000000      0.000000      0.000000   \n",
      "50%     2007.000000      0.080000      0.020000      0.000000      0.010000   \n",
      "75%     2010.000000      0.240000      0.110000      0.040000      0.040000   \n",
      "max     2020.000000     41.490000     29.020000     10.220000     10.570000   \n",
      "\n",
      "       Global_Sales  Sales_in_Millions    Genre_Code  global_sales_iva  \n",
      "count  16598.000000       1.659800e+04  16598.000000      16598.000000  \n",
      "mean       0.537441       5.374407e+05      4.928124          0.623431  \n",
      "std        1.555028       1.555028e+06      3.762015          1.803832  \n",
      "min        0.010000       1.000000e+04      0.000000          0.011600  \n",
      "25%        0.060000       6.000000e+04      1.000000          0.069600  \n",
      "50%        0.170000       1.700000e+05      5.000000          0.197200  \n",
      "75%        0.470000       4.700000e+05      8.000000          0.545200  \n",
      "max       82.740000       8.274000e+07     11.000000         95.978400  \n"
     ]
    }
   ],
   "source": [
    "## Inspección de los datos\n",
    "\n",
    "# Verifica los primeros registros del conjunto de datos y obtén un resumen de las estadísticas generales.\n",
    "import pandas as pd\n",
    "\n",
    "# Cargar el archivo CSV\n",
    "df = pd.read_csv(r'C:\\\\Users\\\\Jholman Cuartas\\\\Desktop\\\\curso_analisis_Jholman_cuartas\\\\data\\\\vgsales.csv')\n",
    "\n",
    "# Verificar los primeros registros\n",
    "primeros_registros = df.head()\n",
    "print(\"Primeros registros:\")\n",
    "print(primeros_registros)\n",
    "\n",
    "# Obtener un resumen de las estadísticas generales\n",
    "resumen_estadisticas = df.describe()\n",
    "print(\"Resumen de estadísticas:\")\n",
    "print(resumen_estadisticas)"
   ]
  },
  {
   "attachments": {},
   "cell_type": "markdown",
   "metadata": {
    "collapsed": false
   },
   "source": [
    "## Tratamiento de valores faltantes\n",
    "\n",
    "Verifica si hay valores faltantes y, si es necesario, realiza el tratamiento adecuado para cada caso.\n"
   ]
  },
  {
   "cell_type": "code",
   "execution_count": 4,
   "metadata": {
    "collapsed": false
   },
   "outputs": [
    {
     "name": "stdout",
     "output_type": "stream",
     "text": [
      "Valores faltantes:\n",
      "RankNamePlatformYearGenrePublisherNA_SalesEU_SalesJP_SalesOther_SalesGlobal_Sales    0\n",
      "dtype: int64\n"
     ]
    }
   ],
   "source": [
    "import pandas as pd\n",
    "\n",
    "# Cargar el archivo CSV\n",
    "df = pd.read_csv(r'C:\\\\Users\\\\Jholman Cuartas\\\\Desktop\\\\curso_analisis_Jholman_cuartas\\\\m4-pandas\\\\2.Caso_practico\\\\vgsales_caso_practico.csv')\n",
    "\n",
    "# Verificar si hay valores faltantes\n",
    "valores_faltantes = df.isnull().sum()\n",
    "print(\"Valores faltantes:\")\n",
    "print(valores_faltantes)\n",
    "\n"
   ]
  },
  {
   "cell_type": "code",
   "execution_count": 5,
   "metadata": {},
   "outputs": [],
   "source": [
    "df_sin_faltantes = df.dropna()\n"
   ]
  },
  {
   "cell_type": "code",
   "execution_count": 6,
   "metadata": {},
   "outputs": [
    {
     "ename": "KeyError",
     "evalue": "'Year'",
     "output_type": "error",
     "traceback": [
      "\u001b[1;31m---------------------------------------------------------------------------\u001b[0m",
      "\u001b[1;31mKeyError\u001b[0m                                  Traceback (most recent call last)",
      "File \u001b[1;32mc:\\Users\\Jholman Cuartas\\AppData\\Local\\Programs\\Python\\Python311\\Lib\\site-packages\\pandas\\core\\indexes\\base.py:3802\u001b[0m, in \u001b[0;36mIndex.get_loc\u001b[1;34m(self, key, method, tolerance)\u001b[0m\n\u001b[0;32m   3801\u001b[0m \u001b[39mtry\u001b[39;00m:\n\u001b[1;32m-> 3802\u001b[0m     \u001b[39mreturn\u001b[39;00m \u001b[39mself\u001b[39;49m\u001b[39m.\u001b[39;49m_engine\u001b[39m.\u001b[39;49mget_loc(casted_key)\n\u001b[0;32m   3803\u001b[0m \u001b[39mexcept\u001b[39;00m \u001b[39mKeyError\u001b[39;00m \u001b[39mas\u001b[39;00m err:\n",
      "File \u001b[1;32mc:\\Users\\Jholman Cuartas\\AppData\\Local\\Programs\\Python\\Python311\\Lib\\site-packages\\pandas\\_libs\\index.pyx:138\u001b[0m, in \u001b[0;36mpandas._libs.index.IndexEngine.get_loc\u001b[1;34m()\u001b[0m\n",
      "File \u001b[1;32mc:\\Users\\Jholman Cuartas\\AppData\\Local\\Programs\\Python\\Python311\\Lib\\site-packages\\pandas\\_libs\\index.pyx:165\u001b[0m, in \u001b[0;36mpandas._libs.index.IndexEngine.get_loc\u001b[1;34m()\u001b[0m\n",
      "File \u001b[1;32mpandas\\_libs\\hashtable_class_helper.pxi:5745\u001b[0m, in \u001b[0;36mpandas._libs.hashtable.PyObjectHashTable.get_item\u001b[1;34m()\u001b[0m\n",
      "File \u001b[1;32mpandas\\_libs\\hashtable_class_helper.pxi:5753\u001b[0m, in \u001b[0;36mpandas._libs.hashtable.PyObjectHashTable.get_item\u001b[1;34m()\u001b[0m\n",
      "\u001b[1;31mKeyError\u001b[0m: 'Year'",
      "\nThe above exception was the direct cause of the following exception:\n",
      "\u001b[1;31mKeyError\u001b[0m                                  Traceback (most recent call last)",
      "Cell \u001b[1;32mIn[6], line 1\u001b[0m\n\u001b[1;32m----> 1\u001b[0m df[\u001b[39m'\u001b[39;49m\u001b[39mYear\u001b[39;49m\u001b[39m'\u001b[39;49m]\u001b[39m.\u001b[39mfillna(\u001b[39m0\u001b[39m, inplace\u001b[39m=\u001b[39m\u001b[39mTrue\u001b[39;00m)  \u001b[39m# Reemplazar los valores faltantes en la columna 'Year' con 0\u001b[39;00m\n\u001b[0;32m      2\u001b[0m df[\u001b[39m'\u001b[39m\u001b[39mGenre\u001b[39m\u001b[39m'\u001b[39m]\u001b[39m.\u001b[39mfillna(\u001b[39m'\u001b[39m\u001b[39mDesconocido\u001b[39m\u001b[39m'\u001b[39m, inplace\u001b[39m=\u001b[39m\u001b[39mTrue\u001b[39;00m)  \u001b[39m# Reemplazar los valores faltantes en la columna 'Genre' con 'Desconocido'\u001b[39;00m\n\u001b[0;32m      3\u001b[0m df[\u001b[39m'\u001b[39m\u001b[39mPublisher\u001b[39m\u001b[39m'\u001b[39m]\u001b[39m.\u001b[39mfillna(\u001b[39m'\u001b[39m\u001b[39mDesconocido\u001b[39m\u001b[39m'\u001b[39m, inplace\u001b[39m=\u001b[39m\u001b[39mTrue\u001b[39;00m)  \u001b[39m# Reemplazar los valores faltantes en la columna 'Publisher' con 'Desconocido'\u001b[39;00m\n",
      "File \u001b[1;32mc:\\Users\\Jholman Cuartas\\AppData\\Local\\Programs\\Python\\Python311\\Lib\\site-packages\\pandas\\core\\frame.py:3807\u001b[0m, in \u001b[0;36mDataFrame.__getitem__\u001b[1;34m(self, key)\u001b[0m\n\u001b[0;32m   3805\u001b[0m \u001b[39mif\u001b[39;00m \u001b[39mself\u001b[39m\u001b[39m.\u001b[39mcolumns\u001b[39m.\u001b[39mnlevels \u001b[39m>\u001b[39m \u001b[39m1\u001b[39m:\n\u001b[0;32m   3806\u001b[0m     \u001b[39mreturn\u001b[39;00m \u001b[39mself\u001b[39m\u001b[39m.\u001b[39m_getitem_multilevel(key)\n\u001b[1;32m-> 3807\u001b[0m indexer \u001b[39m=\u001b[39m \u001b[39mself\u001b[39;49m\u001b[39m.\u001b[39;49mcolumns\u001b[39m.\u001b[39;49mget_loc(key)\n\u001b[0;32m   3808\u001b[0m \u001b[39mif\u001b[39;00m is_integer(indexer):\n\u001b[0;32m   3809\u001b[0m     indexer \u001b[39m=\u001b[39m [indexer]\n",
      "File \u001b[1;32mc:\\Users\\Jholman Cuartas\\AppData\\Local\\Programs\\Python\\Python311\\Lib\\site-packages\\pandas\\core\\indexes\\base.py:3804\u001b[0m, in \u001b[0;36mIndex.get_loc\u001b[1;34m(self, key, method, tolerance)\u001b[0m\n\u001b[0;32m   3802\u001b[0m     \u001b[39mreturn\u001b[39;00m \u001b[39mself\u001b[39m\u001b[39m.\u001b[39m_engine\u001b[39m.\u001b[39mget_loc(casted_key)\n\u001b[0;32m   3803\u001b[0m \u001b[39mexcept\u001b[39;00m \u001b[39mKeyError\u001b[39;00m \u001b[39mas\u001b[39;00m err:\n\u001b[1;32m-> 3804\u001b[0m     \u001b[39mraise\u001b[39;00m \u001b[39mKeyError\u001b[39;00m(key) \u001b[39mfrom\u001b[39;00m \u001b[39merr\u001b[39;00m\n\u001b[0;32m   3805\u001b[0m \u001b[39mexcept\u001b[39;00m \u001b[39mTypeError\u001b[39;00m:\n\u001b[0;32m   3806\u001b[0m     \u001b[39m# If we have a listlike key, _check_indexing_error will raise\u001b[39;00m\n\u001b[0;32m   3807\u001b[0m     \u001b[39m#  InvalidIndexError. Otherwise we fall through and re-raise\u001b[39;00m\n\u001b[0;32m   3808\u001b[0m     \u001b[39m#  the TypeError.\u001b[39;00m\n\u001b[0;32m   3809\u001b[0m     \u001b[39mself\u001b[39m\u001b[39m.\u001b[39m_check_indexing_error(key)\n",
      "\u001b[1;31mKeyError\u001b[0m: 'Year'"
     ]
    }
   ],
   "source": [
    "df['Year'].fillna(0, inplace=True)  # Reemplazar los valores faltantes en la columna 'Year' con 0\n",
    "df['Genre'].fillna('Desconocido', inplace=True)  # Reemplazar los valores faltantes en la columna 'Genre' con 'Desconocido'\n",
    "df['Publisher'].fillna('Desconocido', inplace=True)  # Reemplazar los valores faltantes en la columna 'Publisher' con 'Desconocido'\n",
    "df['Global_Sales'].fillna(0, inplace=True)  # Reemplazar los valores faltantes en la columna 'Global_Sales' con 0\n"
   ]
  },
  {
   "cell_type": "code",
   "execution_count": null,
   "metadata": {},
   "outputs": [],
   "source": [
    "media_year = df['Year'].mean()\n",
    "df['Year'].fillna(media_year, inplace=True)  # Reemplazar los valores faltantes en la columna 'Year' con la media\n",
    "\n",
    "moda_genre = df['Genre'].mode()[0]\n",
    "df['Genre'].fillna(moda_genre, inplace=True)  # Reemplazar los valores faltantes en la columna 'Genre' con la moda\n",
    "\n",
    "moda_publisher = df['Publisher'].mode()[0]\n",
    "df['Publisher'].fillna(moda_publisher, inplace=True)  # Reemplazar los valores faltantes en la columna 'Publisher' con la moda\n",
    "\n",
    "media_global_sales = df['Global_Sales'].mean()\n",
    "df['Global_Sales'].fillna(media_global_sales, inplace=True)  # Reemplazar los valores faltantes en la columna 'Global_Sales' con la media\n"
   ]
  },
  {
   "attachments": {},
   "cell_type": "markdown",
   "metadata": {
    "collapsed": false
   },
   "source": [
    "## Estadísticas de agrupación\n",
    "\n",
    "Agrupa los datos por la columna 'Platform' y calcula las ventas totales para cada plataforma.\n"
   ]
  },
  {
   "cell_type": "code",
   "execution_count": null,
   "metadata": {
    "collapsed": false
   },
   "outputs": [],
   "source": [
    "ventas_por_plataforma = df.groupby('Platform')['Global_Sales'].sum()\n"
   ]
  },
  {
   "cell_type": "code",
   "execution_count": null,
   "metadata": {},
   "outputs": [],
   "source": [
    "ventas_ps2 = ventas_por_plataforma.loc['PS2']\n",
    "print(ventas_ps2)\n"
   ]
  },
  {
   "attachments": {},
   "cell_type": "markdown",
   "metadata": {
    "collapsed": false
   },
   "source": [
    "## Visualización de datos\n",
    "\n",
    "Crea un gráfico de barras para mostrar las ventas globales por plataforma.\n"
   ]
  },
  {
   "cell_type": "code",
   "execution_count": null,
   "metadata": {
    "collapsed": false
   },
   "outputs": [],
   "source": [
    "import matplotlib.pyplot as plt\n",
    "\n",
    "# Configurar los datos de ventas por plataforma\n",
    "plataformas = ventas_por_plataforma.index\n",
    "ventas_globales = ventas_por_plataforma.values\n",
    "\n",
    "# Crear el gráfico de barras\n",
    "plt.figure(figsize=(12, 6))\n",
    "plt.bar(plataformas, ventas_globales)\n",
    "plt.xlabel('Plataforma')\n",
    "plt.ylabel('Ventas Globales')\n",
    "plt.title('Ventas Globales por Plataforma')\n",
    "\n",
    "# Rotar las etiquetas del eje x para una mejor legibilidad\n",
    "plt.xticks(rotation=90)\n",
    "\n",
    "# Mostrar el gráfico\n",
    "plt.show()\n"
   ]
  },
  {
   "attachments": {},
   "cell_type": "markdown",
   "metadata": {
    "collapsed": false
   },
   "source": [
    "## Creación de nuevas características\n",
    "\n",
    "Crea una nueva característica 'Sales_in_Millions' para hacer que las ventas sean más legibles, que muestre las ventas totales pero en millones."
   ]
  },
  {
   "cell_type": "code",
   "execution_count": null,
   "metadata": {
    "collapsed": false
   },
   "outputs": [],
   "source": [
    "# Crear la nueva característica 'Sales_in_Millions'\n",
    "df['Sales_in_Millions'] = df['Global_Sales'] * 1000000\n",
    "\n",
    "# Verificar los cambios\n",
    "print(df.head())\n"
   ]
  },
  {
   "attachments": {},
   "cell_type": "markdown",
   "metadata": {
    "collapsed": false
   },
   "source": [
    "## Agrupación avanzada:\n",
    "\n",
    "Agrupa por 'Year' y 'Platform' y calcula las ventas totales."
   ]
  },
  {
   "cell_type": "code",
   "execution_count": null,
   "metadata": {
    "collapsed": false
   },
   "outputs": [],
   "source": [
    "# Agrupación por 'Year' y 'Platform' y cálculo de las ventas totales\n",
    "ventas_totales = df.groupby(['Year', 'Platform'])['Global_Sales'].sum()\n",
    "\n",
    "# Verificar los resultados\n",
    "print(ventas_totales)\n"
   ]
  },
  {
   "attachments": {},
   "cell_type": "markdown",
   "metadata": {
    "collapsed": false
   },
   "source": [
    "## Tratamiento de columnas de texto\n",
    "\n",
    "Transforma el género en una variable categórica numerada.\n"
   ]
  },
  {
   "cell_type": "code",
   "execution_count": null,
   "metadata": {
    "collapsed": false
   },
   "outputs": [],
   "source": [
    "# Transformar la columna 'Genre' en una variable categórica numerada\n",
    "df['Genre_Code'] = df['Genre'].astype('category').cat.codes\n",
    "\n",
    "# Verificar los resultados\n",
    "print(df[['Genre', 'Genre_Code']])\n"
   ]
  },
  {
   "attachments": {},
   "cell_type": "markdown",
   "metadata": {
    "collapsed": false
   },
   "source": [
    "## Correlación entre características\n",
    "\n",
    "Examina la correlación entre las ventas en diferentes regiones utilizando la función corr() de pandas."
   ]
  },
  {
   "cell_type": "code",
   "execution_count": null,
   "metadata": {
    "collapsed": false
   },
   "outputs": [],
   "source": [
    "# Calcular la correlación entre las ventas en diferentes regiones\n",
    "correlation = df[['NA_Sales', 'EU_Sales', 'JP_Sales', 'Other_Sales']].corr()\n",
    "\n",
    "# Mostrar la matriz de correlación\n",
    "print(correlation)\n"
   ]
  },
  {
   "attachments": {},
   "cell_type": "markdown",
   "metadata": {
    "collapsed": false
   },
   "source": [
    "## Operaciones con strings\n",
    "\n",
    "Crea una nueva característica que contenga la primera letra del nombre del juego"
   ]
  },
  {
   "cell_type": "code",
   "execution_count": null,
   "metadata": {
    "collapsed": false
   },
   "outputs": [],
   "source": [
    "# Crear una nueva columna 'First_Letter' con la primera letra del nombre del juego\n",
    "df['First_Letter'] = df['Name'].str[0]\n",
    "\n",
    "# Mostrar el DataFrame actualizado\n",
    "print(df.head())\n"
   ]
  },
  {
   "attachments": {},
   "cell_type": "markdown",
   "metadata": {
    "collapsed": false
   },
   "source": [
    "## Recuento\n",
    "\n",
    "Cuenta cuántos juegos comienzan con cada letra.\n"
   ]
  },
  {
   "cell_type": "code",
   "execution_count": null,
   "metadata": {
    "collapsed": false
   },
   "outputs": [],
   "source": [
    "# Contar cuántos juegos comienzan con cada letra\n",
    "letter_counts = df['First_Letter'].value_counts()\n",
    "\n",
    "# Mostrar el resultado\n",
    "print(letter_counts)\n"
   ]
  },
  {
   "attachments": {},
   "cell_type": "markdown",
   "metadata": {
    "collapsed": false
   },
   "source": [
    "## Ordenación de datos\n",
    "\n",
    "Ordena el DataFrame por ventas globales en orden descendente."
   ]
  },
  {
   "cell_type": "code",
   "execution_count": null,
   "metadata": {
    "collapsed": false
   },
   "outputs": [],
   "source": [
    "# Ordenar el DataFrame por ventas globales en orden descendente\n",
    "df_sorted = df.sort_values(by='Global_Sales', ascending=False)\n",
    "\n",
    "# Mostrar el DataFrame ordenado\n",
    "print(df_sorted)\n"
   ]
  },
  {
   "attachments": {},
   "cell_type": "markdown",
   "metadata": {
    "collapsed": false
   },
   "source": [
    "## Reset de índice\n",
    "\n",
    "Si en algún momento hemos filtrado el DataFrame o lo hemos alterado de manera que el índice ya no es una secuencia continua de enteros, puede ser útil restablecer el índice.\n"
   ]
  },
  {
   "cell_type": "code",
   "execution_count": null,
   "metadata": {
    "collapsed": false
   },
   "outputs": [],
   "source": [
    "# Restablecer el índice del DataFrame\n",
    "df_reset = df.reset_index(drop=True)\n",
    "\n",
    "# Mostrar el DataFrame con el índice restablecido\n",
    "print(df_reset)\n"
   ]
  },
  {
   "attachments": {},
   "cell_type": "markdown",
   "metadata": {
    "collapsed": false
   },
   "source": [
    "## Eliminación de columnas innecesarias\n",
    "\n",
    "Podemos eliminar columnas que no necesitaremos para futuros análisis. Por ejemplo, podemos eliminar la columna 'Rank'.\n"
   ]
  },
  {
   "cell_type": "code",
   "execution_count": null,
   "metadata": {
    "collapsed": false
   },
   "outputs": [],
   "source": [
    "# Eliminar la columna 'Rank'\n",
    "df = df.drop('Rank', axis=1)\n",
    "\n",
    "# Mostrar el DataFrame actualizado\n",
    "print(df)\n"
   ]
  },
  {
   "attachments": {},
   "cell_type": "markdown",
   "metadata": {
    "collapsed": false
   },
   "source": [
    "## Identificación de Outliers\n",
    "\n",
    "Podemos usar el método del rango intercuartil (IQR) para detectar outliers en la columna 'Global_Sales'.\n",
    "\n",
    "Elimina los outliers u obtén un dataframe sin outliers en la columna GlobalSales."
   ]
  },
  {
   "cell_type": "code",
   "execution_count": null,
   "metadata": {
    "collapsed": false
   },
   "outputs": [],
   "source": [
    "# Calcular los valores del primer y tercer cuartil:\n",
    "Q1 = df['Global_Sales'].quantile(0.25)\n",
    "Q3 = df['Global_Sales'].quantile(0.75)"
   ]
  },
  {
   "cell_type": "code",
   "execution_count": null,
   "metadata": {},
   "outputs": [],
   "source": [
    "# Calcular el rango intercuartil (IQR):\n",
    "IQR = Q3 - Q1"
   ]
  },
  {
   "cell_type": "code",
   "execution_count": null,
   "metadata": {},
   "outputs": [],
   "source": [
    "# Definir los límites inferior y superior para identificar los outliers:\n",
    "lower_bound = Q1 - 1.5 * IQR\n",
    "upper_bound = Q3 + 1.5 * IQR\n"
   ]
  },
  {
   "cell_type": "code",
   "execution_count": null,
   "metadata": {},
   "outputs": [],
   "source": [
    "# Filtrar el DataFrame para eliminar los outliers:\n",
    "df_without_outliers = df[(df['Global_Sales'] >= lower_bound) & (df['Global_Sales'] <= upper_bound)]\n"
   ]
  },
  {
   "attachments": {},
   "cell_type": "markdown",
   "metadata": {
    "collapsed": false
   },
   "source": [
    "## Uso de apply para operaciones de columna\n",
    "\n",
    "Supongamos que queremos crear una nueva columna que sea GlobalSales pero con el IVA añadido, por ejemplo global_sales_iva"
   ]
  },
  {
   "cell_type": "code",
   "execution_count": null,
   "metadata": {
    "collapsed": false
   },
   "outputs": [],
   "source": [
    "# Definir una función para calcular el valor con el IVA añadido\n",
    "def add_iva(value):\n",
    "    iva = value * 0.16  # Supongamos que el IVA es del 16%\n",
    "    return value + iva\n",
    "\n",
    "# Aplicar la función a la columna 'Global_Sales' y crear una nueva columna 'global_sales_iva'\n",
    "df['global_sales_iva'] = df['Global_Sales'].apply(add_iva)"
   ]
  },
  {
   "cell_type": "code",
   "execution_count": null,
   "metadata": {},
   "outputs": [],
   "source": [
    "# Definir una función para calcular el valor con el IVA añadido\n",
    "def add_iva(value):\n",
    "    iva = value * 0.16  # Supongamos que el IVA es del 16%\n",
    "    return value + iva\n",
    "\n",
    "# Aplicar la función a la columna 'Global_Sales' y crear una nueva columna 'global_sales_iva'\n",
    "df['global_sales_iva'] = df['Global_Sales'].apply(add_iva)\n",
    "\n",
    "# Mostrar el DataFrame con la nueva columna\n",
    "print(df)\n"
   ]
  },
  {
   "attachments": {},
   "cell_type": "markdown",
   "metadata": {
    "collapsed": false
   },
   "source": [
    "## Uso de iloc para seleccionar datos\n",
    "\n",
    "iloc es útil para seleccionar filas y columnas por posición. Por ejemplo, si queremos seleccionar las primeras 5 filas y las primeras 3 columnas.\n"
   ]
  },
  {
   "cell_type": "code",
   "execution_count": null,
   "metadata": {
    "collapsed": false
   },
   "outputs": [],
   "source": [
    "# Seleccionar las primeras 5 filas y las primeras 3 columnas\n",
    "subset = df.iloc[:5, :3]\n",
    "\n",
    "# Mostrar el subset de datos seleccionado\n",
    "print(subset)\n"
   ]
  },
  {
   "attachments": {},
   "cell_type": "markdown",
   "metadata": {
    "collapsed": false
   },
   "source": [
    "## Guardar DataFrame\n",
    "\n",
    "Finalmente, guardamos el DataFrame con todas las nuevas características y transformaciones en un nuevo archivo CSV.\n"
   ]
  },
  {
   "cell_type": "code",
   "execution_count": null,
   "metadata": {
    "collapsed": false
   },
   "outputs": [],
   "source": [
    "# Guardar el DataFrame en un nuevo archivo CSV\n",
    "df.to_csv(r'C:\\\\Users\\\\Jholman Cuartas\\\\Desktop\\\\curso_analisis_Jholman_cuartas\\\\m4-pandas\\\\2.Caso_practico\\\\vgsales_caso_practico.csv', index=False)"
   ]
  }
 ],
 "metadata": {
  "kernelspec": {
   "display_name": "Python 3",
   "language": "python",
   "name": "python3"
  },
  "language_info": {
   "codemirror_mode": {
    "name": "ipython",
    "version": 3
   },
   "file_extension": ".py",
   "mimetype": "text/x-python",
   "name": "python",
   "nbconvert_exporter": "python",
   "pygments_lexer": "ipython3",
   "version": "3.11.3"
  }
 },
 "nbformat": 4,
 "nbformat_minor": 0
}
