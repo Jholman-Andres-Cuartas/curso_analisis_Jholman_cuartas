{
 "cells": [
  {
   "attachments": {},
   "cell_type": "markdown",
   "metadata": {},
   "source": [
    "# Regresión múltiple\n",
    "\n",
    "Ejemplo de pipeline de preprocesado y regresión.\n",
    "\n",
    "Objetivo: predecir price que significa precio de vivienda."
   ]
  },
  {
   "cell_type": "code",
   "execution_count": 1,
   "metadata": {},
   "outputs": [],
   "source": [
    "import pandas as pd\n",
    "import numpy as np\n",
    "import matplotlib.pyplot as plt\n",
    "import seaborn as sns"
   ]
  },
  {
   "cell_type": "code",
   "execution_count": 17,
   "metadata": {},
   "outputs": [
    {
     "data": {
      "text/html": [
       "<div>\n",
       "<style scoped>\n",
       "    .dataframe tbody tr th:only-of-type {\n",
       "        vertical-align: middle;\n",
       "    }\n",
       "\n",
       "    .dataframe tbody tr th {\n",
       "        vertical-align: top;\n",
       "    }\n",
       "\n",
       "    .dataframe thead th {\n",
       "        text-align: right;\n",
       "    }\n",
       "</style>\n",
       "<table border=\"1\" class=\"dataframe\">\n",
       "  <thead>\n",
       "    <tr style=\"text-align: right;\">\n",
       "      <th></th>\n",
       "      <th>address</th>\n",
       "      <th>price</th>\n",
       "      <th>bed</th>\n",
       "      <th>bath</th>\n",
       "      <th>area</th>\n",
       "      <th>type</th>\n",
       "      <th>year_built</th>\n",
       "      <th>heating</th>\n",
       "      <th>cooling</th>\n",
       "      <th>parking</th>\n",
       "      <th>lot</th>\n",
       "      <th>hoa</th>\n",
       "      <th>url</th>\n",
       "    </tr>\n",
       "  </thead>\n",
       "  <tbody>\n",
       "    <tr>\n",
       "      <th>97</th>\n",
       "      <td>2708 Circle Dr, Durham, NC 27705</td>\n",
       "      <td>674500</td>\n",
       "      <td>4</td>\n",
       "      <td>4.0</td>\n",
       "      <td>3766.0</td>\n",
       "      <td>Single Family</td>\n",
       "      <td>1955.0</td>\n",
       "      <td>Forced air, Electric, Gas</td>\n",
       "      <td>other</td>\n",
       "      <td>0 spaces</td>\n",
       "      <td>0.73</td>\n",
       "      <td>NaN</td>\n",
       "      <td>https://www.zillow.com/homedetails/2708-Circle...</td>\n",
       "    </tr>\n",
       "  </tbody>\n",
       "</table>\n",
       "</div>"
      ],
      "text/plain": [
       "                             address   price  bed  bath    area  \\\n",
       "97  2708 Circle Dr, Durham, NC 27705  674500    4   4.0  3766.0   \n",
       "\n",
       "             type  year_built                    heating cooling   parking  \\\n",
       "97  Single Family      1955.0  Forced air, Electric, Gas   other  0 spaces   \n",
       "\n",
       "     lot  hoa                                                url  \n",
       "97  0.73  NaN  https://www.zillow.com/homedetails/2708-Circle...  "
      ]
     },
     "execution_count": 17,
     "metadata": {},
     "output_type": "execute_result"
    }
   ],
   "source": [
    "df = pd.read_csv('../../data/duke-forest-nulls.csv')\n",
    "df.tail(1)"
   ]
  },
  {
   "attachments": {},
   "cell_type": "markdown",
   "metadata": {},
   "source": [
    "## Valores faltantes con Scikit Learn\n",
    "\n",
    "Técnicas de imputación de valores faltantes: sklearn.impute"
   ]
  },
  {
   "attachments": {},
   "cell_type": "markdown",
   "metadata": {},
   "source": [
    "### Ejemplo demo"
   ]
  },
  {
   "cell_type": "code",
   "execution_count": 55,
   "metadata": {},
   "outputs": [
    {
     "data": {
      "text/html": [
       "<div>\n",
       "<style scoped>\n",
       "    .dataframe tbody tr th:only-of-type {\n",
       "        vertical-align: middle;\n",
       "    }\n",
       "\n",
       "    .dataframe tbody tr th {\n",
       "        vertical-align: top;\n",
       "    }\n",
       "\n",
       "    .dataframe thead th {\n",
       "        text-align: right;\n",
       "    }\n",
       "</style>\n",
       "<table border=\"1\" class=\"dataframe\">\n",
       "  <thead>\n",
       "    <tr style=\"text-align: right;\">\n",
       "      <th></th>\n",
       "      <th>edad</th>\n",
       "      <th>genero</th>\n",
       "      <th>ingresos</th>\n",
       "    </tr>\n",
       "  </thead>\n",
       "  <tbody>\n",
       "    <tr>\n",
       "      <th>0</th>\n",
       "      <td>25.0</td>\n",
       "      <td>masculino</td>\n",
       "      <td>30000.0</td>\n",
       "    </tr>\n",
       "    <tr>\n",
       "      <th>1</th>\n",
       "      <td>NaN</td>\n",
       "      <td>femenino</td>\n",
       "      <td>70000.0</td>\n",
       "    </tr>\n",
       "    <tr>\n",
       "      <th>2</th>\n",
       "      <td>40.0</td>\n",
       "      <td>NaN</td>\n",
       "      <td>55000.0</td>\n",
       "    </tr>\n",
       "    <tr>\n",
       "      <th>3</th>\n",
       "      <td>35.0</td>\n",
       "      <td>masculino</td>\n",
       "      <td>80000.0</td>\n",
       "    </tr>\n",
       "    <tr>\n",
       "      <th>4</th>\n",
       "      <td>60.0</td>\n",
       "      <td>masculino</td>\n",
       "      <td>55000.0</td>\n",
       "    </tr>\n",
       "  </tbody>\n",
       "</table>\n",
       "</div>"
      ],
      "text/plain": [
       "   edad     genero  ingresos\n",
       "0  25.0  masculino   30000.0\n",
       "1   NaN   femenino   70000.0\n",
       "2  40.0        NaN   55000.0\n",
       "3  35.0  masculino   80000.0\n",
       "4  60.0  masculino   55000.0"
      ]
     },
     "execution_count": 55,
     "metadata": {},
     "output_type": "execute_result"
    }
   ],
   "source": [
    "from sklearn.experimental import enable_iterative_imputer\n",
    "# CUIDADO: enable_iterative_imputer va antes de IterativeImputer para poder usarlo\n",
    "from sklearn.impute import SimpleImputer, KNNImputer, IterativeImputer\n",
    "\n",
    "df = pd.DataFrame({\n",
    "    'edad': [25, np.nan, 40, 35, 60, np.nan],\n",
    "    'genero': ['masculino', 'femenino', np.nan, 'masculino', 'masculino', 'femenino'],\n",
    "    'ingresos': [30000, 70000, np.nan, 80000, np.nan, 40000]\n",
    "})\n",
    "\n",
    "# Opción 1 SimpleImputer por media o mediana:\n",
    "# imp_mean = SimpleImputer(missing_values=np.nan, strategy='mean')\n",
    "# df['edad'] = imp_mean.fit_transform(df[['edad']])\n",
    "\n",
    "# Opción 2 KNNImputer: media pero de las filas más cercanas según el algoritmo de KNN\n",
    "# imp_knn = KNNImputer(n_neighbors=2) # calcula la media de los n_neighbors más cercanos\n",
    "# df['edad'] = imp_knn.fit_transform(df[['edad']])\n",
    "# df['ingresos'] = imp_knn.fit_transform(df[['ingresos']])\n",
    "\n",
    "# Opción 3 SimpleImputer constante: asignamos un valor fijo\n",
    "# imp_constant = SimpleImputer(strategy='constant', fill_value='other')\n",
    "# df['genero'] = imp_constant.fit_transform(df[['genero']])\n",
    "\n",
    "# Opción 4 SimpleImputer con el valor más frecuente (moda) \n",
    "# imp_mode = SimpleImputer(strategy='most_frequent')\n",
    "# df['genero'] = imp_mode.fit_transform(df[['genero']])\n",
    "\n",
    "# Opción 5 IterativeImputer con una predicción utilizando una regresión\n",
    "imp_iter = IterativeImputer(random_state=42)\n",
    "df['ingresos'] = imp_iter.fit_transform(df[['ingresos']])\n",
    "\n",
    "df.head()"
   ]
  },
  {
   "attachments": {},
   "cell_type": "markdown",
   "metadata": {},
   "source": [
    "### Ejemplo duke forest"
   ]
  },
  {
   "cell_type": "code",
   "execution_count": 18,
   "metadata": {},
   "outputs": [
    {
     "data": {
      "text/plain": [
       "address        0\n",
       "price          0\n",
       "bed            0\n",
       "bath           0\n",
       "area           2\n",
       "type           2\n",
       "year_built     4\n",
       "heating        1\n",
       "cooling        1\n",
       "parking        0\n",
       "lot            1\n",
       "hoa           97\n",
       "url            0\n",
       "dtype: int64"
      ]
     },
     "execution_count": 18,
     "metadata": {},
     "output_type": "execute_result"
    }
   ],
   "source": [
    "df = pd.read_csv('../../data/duke-forest-nulls.csv')\n",
    "\n",
    "df.isnull().sum()"
   ]
  },
  {
   "cell_type": "code",
   "execution_count": 19,
   "metadata": {},
   "outputs": [],
   "source": [
    "# Borrar hoa\n",
    "df = df.drop(['hoa'], axis=1)"
   ]
  },
  {
   "cell_type": "code",
   "execution_count": 20,
   "metadata": {},
   "outputs": [],
   "source": [
    "from sklearn.impute import SimpleImputer\n",
    "\n",
    "# Estrategias para numéricos: mean, median\n",
    "imp_mean = SimpleImputer(missing_values=np.nan, strategy='median')\n",
    "df['lot'] = imp_mean.fit_transform(df[['lot']]) # fit_transform recibe una matriz 2D, un dataframe"
   ]
  },
  {
   "cell_type": "code",
   "execution_count": 21,
   "metadata": {},
   "outputs": [
    {
     "data": {
      "text/plain": [
       "address       0\n",
       "price         0\n",
       "bed           0\n",
       "bath          0\n",
       "area          2\n",
       "type          2\n",
       "year_built    4\n",
       "heating       1\n",
       "cooling       1\n",
       "parking       0\n",
       "lot           0\n",
       "url           0\n",
       "dtype: int64"
      ]
     },
     "execution_count": 21,
     "metadata": {},
     "output_type": "execute_result"
    }
   ],
   "source": [
    "df.isnull().sum()"
   ]
  },
  {
   "cell_type": "code",
   "execution_count": 22,
   "metadata": {},
   "outputs": [],
   "source": [
    "# categóricos: most_frequent, constant\n",
    "imp_most_freq = SimpleImputer(missing_values=np.nan, strategy='most_frequent') # moda\n",
    "df['type'] = imp_most_freq.fit_transform(df[['type']])"
   ]
  },
  {
   "cell_type": "code",
   "execution_count": 23,
   "metadata": {},
   "outputs": [
    {
     "data": {
      "text/plain": [
       "address       0\n",
       "price         0\n",
       "bed           0\n",
       "bath          0\n",
       "area          2\n",
       "type          0\n",
       "year_built    4\n",
       "heating       1\n",
       "cooling       1\n",
       "parking       0\n",
       "lot           0\n",
       "url           0\n",
       "dtype: int64"
      ]
     },
     "execution_count": 23,
     "metadata": {},
     "output_type": "execute_result"
    }
   ],
   "source": [
    "df.isnull().sum()"
   ]
  },
  {
   "attachments": {},
   "cell_type": "markdown",
   "metadata": {},
   "source": [
    "## Regresión lineal simple"
   ]
  }
 ],
 "metadata": {
  "kernelspec": {
   "display_name": "Python 3",
   "language": "python",
   "name": "python3"
  },
  "language_info": {
   "codemirror_mode": {
    "name": "ipython",
    "version": 3
   },
   "file_extension": ".py",
   "mimetype": "text/x-python",
   "name": "python",
   "nbconvert_exporter": "python",
   "pygments_lexer": "ipython3",
   "version": "3.10.11"
  },
  "orig_nbformat": 4
 },
 "nbformat": 4,
 "nbformat_minor": 2
}
